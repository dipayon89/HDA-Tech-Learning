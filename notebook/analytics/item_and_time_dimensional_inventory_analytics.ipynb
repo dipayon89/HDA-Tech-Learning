{
 "cells": [
  {
   "attachments": {},
   "cell_type": "markdown",
   "metadata": {
    "collapsed": false
   },
   "source": [
    "To perform item and time dimensional inventory analytics based on the given schema, we can utilize SQL queries to gather insights. Here are a few examples of analytics that can be performed:\n",
    "\n",
    "Database connector class. It will be used to coneect to database and do different types of olap queries on data."
   ]
  },
  {
   "cell_type": "code",
   "execution_count": 1,
   "metadata": {
    "collapsed": false,
    "ExecuteTime": {
     "end_time": "2023-06-06T16:42:29.062711684Z",
     "start_time": "2023-06-06T16:42:28.388051760Z"
    }
   },
   "outputs": [],
   "source": [
    "import psycopg2\n",
    "import pandas as pd\n",
    "import psycopg2.extras\n",
    "import matplotlib.pyplot as plt\n",
    "import numpy as np\n",
    "\n",
    "\n",
    "class PostgresConnection(object):\n",
    "    def __init__(self):\n",
    "        self.connection = psycopg2.connect(database=\"ecomdb\",\n",
    "                                           user=\"dhiman\",\n",
    "                                           password=\"dhiman1234\",\n",
    "                                           host=\"127.0.0.1\",\n",
    "                                           port=\"5432\")\n",
    "\n",
    "    def getConnection(self):\n",
    "        return self.connection"
   ]
  },
  {
   "attachments": {},
   "cell_type": "markdown",
   "metadata": {
    "collapsed": false
   },
   "source": [
    "### 1. Total inventory value by item:"
   ]
  },
  {
   "cell_type": "code",
   "execution_count": 2,
   "metadata": {
    "ExecuteTime": {
     "end_time": "2023-06-06T16:42:30.183486812Z",
     "start_time": "2023-06-06T16:42:29.068013931Z"
    }
   },
   "outputs": [
    {
     "name": "stdout",
     "output_type": "stream",
     "text": [
      "          0                                      1          2\n",
      "0    I00001             A&W Root Beer - 12 oz cans   271664.5\n",
      "1    I00002        A&W Root Beer Diet - 12 oz cans  156478.50\n",
      "2    I00003          Barq's Root Beer - 12 oz cans  154764.00\n",
      "3    I00004                       Cherry Coke 12oz  153765.00\n",
      "4    I00005               Cherry Coke Zero 12 pack  152151.75\n",
      "..      ...                                    ...        ...\n",
      "259  I00260                   Napkins Square Lunch   348795.0\n",
      "260  I00261                 POM 2 ply paper towels   746064.0\n",
      "261  I00262                Strong Everyday Napkins   315798.0\n",
      "262  I00263                   Advil 2 pill packets   323764.0\n",
      "263  I00264  Tylenol Extra Strength 2 pill packets   340350.0\n",
      "\n",
      "[264 rows x 3 columns]\n"
     ]
    }
   ],
   "source": [
    "connection = PostgresConnection().getConnection()\n",
    "cursor = connection.cursor()\n",
    "select_stmt = '''   SELECT fact_table.item_key, item_name, SUM(quantity * fact_table.unit_price) AS total_inventory_value\n",
    "                    FROM fact_table\n",
    "                    JOIN item_dim ON fact_table.item_key = item_dim.item_key\n",
    "                    GROUP BY fact_table.item_key, item_name;   '''\n",
    "\n",
    "# print(select_stmt)\n",
    "\n",
    "cursor.execute(select_stmt)\n",
    "records = cursor.fetchall()\n",
    "\n",
    "df = pd.DataFrame(list(records))\n",
    "print(df.head(len(df.index)))\n",
    "\n",
    "cursor.close()\n",
    "connection.close()"
   ]
  },
  {
   "attachments": {},
   "cell_type": "markdown",
   "metadata": {
    "collapsed": false
   },
   "source": [
    "### 2. Top-selling items by quantity:"
   ]
  },
  {
   "cell_type": "code",
   "execution_count": 3,
   "metadata": {
    "collapsed": false,
    "ExecuteTime": {
     "end_time": "2023-06-06T16:42:30.435356352Z",
     "start_time": "2023-06-06T16:42:30.187398592Z"
    }
   },
   "outputs": [
    {
     "name": "stdout",
     "output_type": "stream",
     "text": [
      "         0                                           1      2\n",
      "0   I00015                     Diet Pepsi - 12 oz cans  23969\n",
      "1   I00203        Nat.Valley PeanutButter Protein Bars  23958\n",
      "2   I00230         Nabisco Classic Mix ccooki, cracker  23852\n",
      "3   I00023                          Pepsi - 12 oz cans  23802\n",
      "4   I00061                               Red Bull 12oz  23740\n",
      "5   I00246                Cascade Gel Packs Dishwasher  23648\n",
      "6   I00001                  A&W Root Beer - 12 oz cans  23623\n",
      "7   I00110                       Starbuck's Pike Place  23621\n",
      "8   I00229          Kellogg's Cereals Assortment Pack   23583\n",
      "9   I00209      Quaker Instant Oatmeal Maple Brn Sugar  23560\n",
      "10  I00135      Chinet Comfort Hot Cups with Lids 16oz  23516\n",
      "11  I00115         K Cups Daily Chef Columbian Supremo  23498\n",
      "12  I00072                     Gatorade Variety 20 oz   23474\n",
      "13  I00219             Wonderful Pistachios (in shell)  23454\n",
      "14  I00257               Large Trash Bags Black 33 gal  23435\n",
      "15  I00133                      Clear Plastic Cups 9oz  23429\n",
      "16  I00082             100% Juice Box Variety 6.75 oz   23425\n",
      "17  I00112               Swiss Miss Hot Cocoa Mix 1 oz  23360\n",
      "18  I00083  Ocean Spray Cranberry Juice Cocktail 15oz   23359\n",
      "19  I00248                   Charmin Ultra Bath Tissue  23357\n",
      "20  I00150               Baked Chips Variety Mix Frito  23356\n",
      "21  I00254                  Hand Sanitizer Refill Pump  23349\n",
      "22  I00064                  Red Bull Sugar Free 8.4 oz  23343\n",
      "23  I00155                   Doritos Nacho Cheese 1 oz  23343\n",
      "24  I00096           Sobe Zero Lifewater Variety 20 oz  23325\n",
      "25  I00216                Planters Nut-trition 1.5 oz   23323\n",
      "26  I00099            Coffee-Mate Original Flavor Cold  23308\n",
      "27  I00049            Waterloo Sparkling Original 12oz  23289\n",
      "28  I00182           Reese's Pieces Peanutbutter Candy  23273\n",
      "29  I00140                 Foam Coffee Cups - 20 ounce  23264\n",
      "30  I00176                    M&M Peanut Butter 1.6 oz  23262\n",
      "31  I00166                      Pop Chips Variety bags  23254\n",
      "32  I00260                        Napkins Square Lunch  23253\n",
      "33  I00153               Cheez It White Cheddar 1.5 oz  23253\n",
      "34  I00124                   Njoy Sugar Canister 22 oz  23244\n",
      "35  I00160                   Frito Classic Mix Variety  23242\n",
      "36  I00084           Tropicana Apple Juice 10 oz 100%   23236\n",
      "37  I00165                          Miss Vickies Chips  23232\n",
      "38  I00063                             Red Bull 8.4 oz  23231\n",
      "39  I00187              Belvita Hard Biscuits Cinnamon  23216\n",
      "40  I00194              Detour Lower Sugar Protein Bar  23190\n",
      "41  I00002             A&W Root Beer Diet - 12 oz cans  23182\n",
      "42  I00098             Coffee-Mate French Vanilla Cold  23177\n",
      "43  I00097                    Vita Coconut Water 10oz   23174\n",
      "44  I00232            Pop-Tarts, Brown Sugar Cinnamon   23165\n",
      "45  I00181              Reese's Peanutbutter Cups 2/pk  23160\n",
      "46  I00249                    Clorox Bleach Large Jugs  23158\n",
      "47  I00020                     Ginger Ale - 12 oz cans  23152\n",
      "48  I00057         Muscle Milk Protein Shake Van. 11oz  23147\n",
      "49  I00048               Waterloo Sparkling Mango 12oz  23126\n"
     ]
    }
   ],
   "source": [
    "connection = PostgresConnection().getConnection()\n",
    "cursor = connection.cursor()\n",
    "select_stmt = '''   SELECT fact_table.item_key, item_name, SUM(quantity) AS total_quantity_sold\n",
    "                    FROM fact_table\n",
    "                    JOIN item_dim ON fact_table.item_key = item_dim.item_key\n",
    "                    GROUP BY fact_table.item_key, item_name\n",
    "                    ORDER BY total_quantity_sold DESC\n",
    "                    LIMIT 50;   '''\n",
    "\n",
    "# print(select_stmt)\n",
    "\n",
    "cursor.execute(select_stmt)\n",
    "records = cursor.fetchall()\n",
    "\n",
    "df = pd.DataFrame(list(records))\n",
    "print(df.head(len(df.index)))\n",
    "\n",
    "cursor.close()\n",
    "connection.close()"
   ]
  },
  {
   "attachments": {},
   "cell_type": "markdown",
   "metadata": {},
   "source": [
    "### 3. Monthly sales trend:"
   ]
  },
  {
   "cell_type": "code",
   "execution_count": 4,
   "metadata": {
    "collapsed": false,
    "ExecuteTime": {
     "end_time": "2023-06-06T16:42:30.814490733Z",
     "start_time": "2023-06-06T16:42:30.439455952Z"
    }
   },
   "outputs": [
    {
     "name": "stdout",
     "output_type": "stream",
     "text": [
      "       0   1           2\n",
      "0   2014   1   496549.25\n",
      "1   2014   2  1122547.00\n",
      "2   2014   3  1262435.75\n",
      "3   2014   4  1245142.50\n",
      "4   2014   5  1268770.50\n",
      "..   ...  ..         ...\n",
      "80  2020   9  1232639.75\n",
      "81  2020  10  1319655.75\n",
      "82  2020  11  1200248.75\n",
      "83  2020  12  1346884.75\n",
      "84  2021   1   883772.25\n",
      "\n",
      "[85 rows x 3 columns]\n"
     ]
    }
   ],
   "source": [
    "connection = PostgresConnection().getConnection()\n",
    "cursor = connection.cursor()\n",
    "select_stmt = '''   SELECT time_year, time_month, SUM(total_price) AS total_sales\n",
    "                    FROM fact_table\n",
    "                    JOIN time_dim ON fact_table.time_key = time_dim.time_key\n",
    "                    GROUP BY time_year, time_month\n",
    "                    ORDER BY time_year, time_month;   '''\n",
    "\n",
    "# print(select_stmt)\n",
    "\n",
    "cursor.execute(select_stmt)\n",
    "records = cursor.fetchall()\n",
    "\n",
    "df = pd.DataFrame(list(records))\n",
    "print(df.head(len(df.index)))\n",
    "\n",
    "cursor.close()\n",
    "connection.close()"
   ]
  },
  {
   "attachments": {},
   "cell_type": "markdown",
   "metadata": {},
   "source": [
    "### 4. Average unit price by item:"
   ]
  },
  {
   "cell_type": "code",
   "execution_count": 5,
   "metadata": {
    "ExecuteTime": {
     "end_time": "2023-06-06T16:42:30.831547489Z",
     "start_time": "2023-06-06T16:42:30.819156353Z"
    }
   },
   "outputs": [
    {
     "name": "stdout",
     "output_type": "stream",
     "text": [
      "          0                                       1                    2\n",
      "0    I00182       Reese's Pieces Peanutbutter Candy  15.0000000000000000\n",
      "1    I00101    French Vanilla International Delight  15.0000000000000000\n",
      "2    I00237      Breath Savers Peppermints 12/roll   16.0000000000000000\n",
      "3    I00085      Tropicana Orange Juice 10 oz 100%   18.0000000000000000\n",
      "4    I00154                       Chex Mix Original  15.0000000000000000\n",
      "..      ...                                     ...                  ...\n",
      "259  I00261                  POM 2 ply paper towels  33.0000000000000000\n",
      "260  I00173           Hershey Factory Favorites Mix  19.0000000000000000\n",
      "261  I00209  Quaker Instant Oatmeal Maple Brn Sugar  13.0000000000000000\n",
      "262  I00242           Trident Original Flavor 18/pk  12.0000000000000000\n",
      "263  I00051                      Monster Java 15 oz  23.0000000000000000\n",
      "\n",
      "[264 rows x 3 columns]\n"
     ]
    }
   ],
   "source": [
    "connection = PostgresConnection().getConnection()\n",
    "cursor = connection.cursor()\n",
    "select_stmt = '''   SELECT item_key, item_name, AVG(unit_price) AS average_unit_price\n",
    "                    FROM item_dim\n",
    "                    GROUP BY item_key, item_name;  '''\n",
    "\n",
    "# print(select_stmt)\n",
    "\n",
    "cursor.execute(select_stmt)\n",
    "records = cursor.fetchall()\n",
    "\n",
    "df = pd.DataFrame(list(records))\n",
    "print(df.head(len(df.index)))\n",
    "\n",
    "cursor.close()\n",
    "connection.close()"
   ]
  },
  {
   "attachments": {},
   "cell_type": "markdown",
   "metadata": {},
   "source": [
    "### 5. Inventory turnover rate by item:"
   ]
  },
  {
   "cell_type": "code",
   "execution_count": 6,
   "metadata": {
    "ExecuteTime": {
     "end_time": "2023-06-06T16:42:31.111960333Z",
     "start_time": "2023-06-06T16:42:30.833737487Z"
    }
   },
   "outputs": [
    {
     "name": "stdout",
     "output_type": "stream",
     "text": [
      "          0                                      1      2                   3\n",
      "0    I00001             A&W Root Beer - 12 oz cans  23623  6.0774376125546694\n",
      "1    I00002        A&W Root Beer Diet - 12 oz cans  23182  6.0464267083985394\n",
      "2    I00003          Barq's Root Beer - 12 oz cans  22928  6.0672135485578195\n",
      "3    I00004                       Cherry Coke 12oz  22780  5.9790026246719160\n",
      "4    I00005               Cherry Coke Zero 12 pack  22541  5.9679639925867090\n",
      "..      ...                                    ...    ...                 ...\n",
      "259  I00260                   Napkins Square Lunch  23253  5.9485801995395242\n",
      "260  I00261                 POM 2 ply paper towels  22608  6.0823244552058111\n",
      "261  I00262                Strong Everyday Napkins  22557  5.9658820417878868\n",
      "262  I00263                   Advil 2 pill packets  23126  6.0650406504065041\n",
      "263  I00264  Tylenol Extra Strength 2 pill packets  22690  6.0313662945241893\n",
      "\n",
      "[264 rows x 4 columns]\n"
     ]
    }
   ],
   "source": [
    "connection = PostgresConnection().getConnection()\n",
    "cursor = connection.cursor()\n",
    "select_stmt = '''   SELECT fact_table.item_key, item_name, SUM(quantity) AS total_quantity_sold, AVG(quantity) AS average_quantity_sold\n",
    "                    FROM fact_table\n",
    "                    JOIN item_dim ON fact_table.item_key = item_dim.item_key\n",
    "                    GROUP BY fact_table.item_key, item_name;  '''\n",
    "\n",
    "# print(select_stmt)\n",
    "\n",
    "cursor.execute(select_stmt)\n",
    "records = cursor.fetchall()\n",
    "\n",
    "df = pd.DataFrame(list(records))\n",
    "print(df.head(len(df.index)))\n",
    "\n",
    "cursor.close()\n",
    "connection.close()"
   ]
  }
 ],
 "metadata": {
  "kernelspec": {
   "display_name": "Python 3",
   "language": "python",
   "name": "python3"
  },
  "language_info": {
   "codemirror_mode": {
    "name": "ipython",
    "version": 3
   },
   "file_extension": ".py",
   "mimetype": "text/x-python",
   "name": "python",
   "nbconvert_exporter": "python",
   "pygments_lexer": "ipython3",
   "version": "3.10.10"
  }
 },
 "nbformat": 4,
 "nbformat_minor": 0
}
