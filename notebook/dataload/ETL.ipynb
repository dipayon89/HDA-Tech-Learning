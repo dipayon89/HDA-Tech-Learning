{
 "cells": [
  {
   "attachments": {},
   "cell_type": "markdown",
   "metadata": {
    "collapsed": false
   },
   "source": [
    "## Install packages\n",
    "\n",
    "install required python packages"
   ]
  },
  {
   "cell_type": "code",
   "execution_count": 19,
   "metadata": {
    "ExecuteTime": {
     "end_time": "2023-06-06T15:42:14.942092088Z",
     "start_time": "2023-06-06T15:42:00.693543303Z"
    },
    "collapsed": false
   },
   "outputs": [
    {
     "name": "stderr",
     "output_type": "stream",
     "text": [
      "1229.38s - pydevd: Sending message related to process being replaced timed-out after 5 seconds\n"
     ]
    },
    {
     "name": "stdout",
     "output_type": "stream",
     "text": [
      "/bin/zsh: /home/dhiman/miniconda3/lib/libncursesw.so.6: no version information available (required by /bin/zsh)\n",
      "Requirement already satisfied: pip in /home/dhiman/miniconda3/lib/python3.10/site-packages (23.1.2)\n"
     ]
    },
    {
     "name": "stderr",
     "output_type": "stream",
     "text": [
      "1238.67s - pydevd: Sending message related to process being replaced timed-out after 5 seconds\n"
     ]
    },
    {
     "name": "stdout",
     "output_type": "stream",
     "text": [
      "/bin/zsh: /home/dhiman/miniconda3/lib/libncursesw.so.6: no version information available (required by /bin/zsh)\n",
      "Requirement already satisfied: psycopg2 in /home/dhiman/miniconda3/lib/python3.10/site-packages (2.9.6)\n"
     ]
    },
    {
     "name": "stderr",
     "output_type": "stream",
     "text": [
      "1247.55s - pydevd: Sending message related to process being replaced timed-out after 5 seconds\n"
     ]
    },
    {
     "name": "stdout",
     "output_type": "stream",
     "text": [
      "/bin/zsh: /home/dhiman/miniconda3/lib/libncursesw.so.6: no version information available (required by /bin/zsh)\n",
      "Requirement already satisfied: pandas in /home/dhiman/miniconda3/lib/python3.10/site-packages (2.0.2)\n",
      "Requirement already satisfied: python-dateutil>=2.8.2 in /home/dhiman/miniconda3/lib/python3.10/site-packages (from pandas) (2.8.2)\n",
      "Requirement already satisfied: pytz>=2020.1 in /home/dhiman/miniconda3/lib/python3.10/site-packages (from pandas) (2023.3)\n",
      "Requirement already satisfied: tzdata>=2022.1 in /home/dhiman/miniconda3/lib/python3.10/site-packages (from pandas) (2023.3)\n",
      "Requirement already satisfied: numpy>=1.21.0 in /home/dhiman/miniconda3/lib/python3.10/site-packages (from pandas) (1.23.5)\n",
      "Requirement already satisfied: six>=1.5 in /home/dhiman/miniconda3/lib/python3.10/site-packages (from python-dateutil>=2.8.2->pandas) (1.16.0)\n"
     ]
    },
    {
     "name": "stderr",
     "output_type": "stream",
     "text": [
      "1256.29s - pydevd: Sending message related to process being replaced timed-out after 5 seconds\n"
     ]
    },
    {
     "name": "stdout",
     "output_type": "stream",
     "text": [
      "/bin/zsh: /home/dhiman/miniconda3/lib/libncursesw.so.6: no version information available (required by /bin/zsh)\n",
      "Requirement already satisfied: openpyxl in /home/dhiman/miniconda3/lib/python3.10/site-packages (3.1.2)\n",
      "Requirement already satisfied: et-xmlfile in /home/dhiman/miniconda3/lib/python3.10/site-packages (from openpyxl) (1.1.0)\n"
     ]
    }
   ],
   "source": [
    "!pip install --upgrade pip\n",
    "!pip install psycopg2\n",
    "!pip install pandas\n",
    "!pip install openpyxl"
   ]
  },
  {
   "attachments": {},
   "cell_type": "markdown",
   "metadata": {
    "collapsed": false
   },
   "source": [
    "## Import modules\n",
    "\n",
    "import required python modules for data load"
   ]
  },
  {
   "cell_type": "code",
   "execution_count": 20,
   "metadata": {
    "ExecuteTime": {
     "end_time": "2023-06-06T15:42:14.991192058Z",
     "start_time": "2023-06-06T15:42:14.948586995Z"
    },
    "collapsed": false
   },
   "outputs": [],
   "source": [
    "import psycopg2\n",
    "import pandas as pd\n",
    "import psycopg2.extras"
   ]
  },
  {
   "attachments": {},
   "cell_type": "markdown",
   "metadata": {
    "collapsed": false
   },
   "source": [
    "### PostgreSQL Connector\n"
   ]
  },
  {
   "cell_type": "code",
   "execution_count": 21,
   "metadata": {
    "ExecuteTime": {
     "end_time": "2023-06-06T15:42:15.035080180Z",
     "start_time": "2023-06-06T15:42:14.992320985Z"
    },
    "collapsed": false
   },
   "outputs": [],
   "source": [
    "# sudo -u postgres psql\n",
    "# create database ecomdb;\n",
    "# create user dhiman with encrypted password 'dhiman1234';\n",
    "# grant all privileges on database ecomdb to dhiman;\n",
    "# \\c ecomdb postgres;\n",
    "# GRANT ALL ON SCHEMA public TO dhiman;\n",
    "\n",
    "class PostgresConnection(object):\n",
    "    def __init__(self):\n",
    "        self.connection = psycopg2.connect(database=\"ecomdb\",\n",
    "                                           user = \"dhiman\",\n",
    "                                           password = \"dhiman1234\",\n",
    "                                           host = \"127.0.0.1\",\n",
    "                                           port = \"5432\")\n",
    "\n",
    "    def getConnection(self):\n",
    "        return self.connection"
   ]
  },
  {
   "attachments": {},
   "cell_type": "markdown",
   "metadata": {
    "collapsed": false
   },
   "source": []
  },
  {
   "attachments": {},
   "cell_type": "markdown",
   "metadata": {
    "collapsed": false
   },
   "source": [
    "### create Star Schema in the PostgreSQL database"
   ]
  },
  {
   "cell_type": "code",
   "execution_count": 22,
   "metadata": {
    "ExecuteTime": {
     "end_time": "2023-06-06T15:42:15.035599216Z",
     "start_time": "2023-06-06T15:42:15.033474670Z"
    },
    "collapsed": false
   },
   "outputs": [],
   "source": [
    "def create_tables(connection):\n",
    "    commands = (\n",
    "        \"\"\"\n",
    "        CREATE TABLE IF NOT EXISTS trans_dim (\n",
    "            payment_key VARCHAR(10) PRIMARY KEY,\n",
    "            trans_type VARCHAR(10) NOT NULL,\n",
    "            bank_name VARCHAR(100)\n",
    "        )\n",
    "        \"\"\",\n",
    "        \"\"\" CREATE TABLE IF NOT EXISTS item_dim (\n",
    "            item_key VARCHAR(10) PRIMARY KEY,\n",
    "            item_name VARCHAR(255) NOT NULL,\n",
    "            item_desc VARCHAR(255) NOT NULL,\n",
    "            unit_price DECIMAL NOT NULL,\n",
    "            man_country VARCHAR(100) NOT NULL,\n",
    "            supplier VARCHAR(255) NOT NULL,\n",
    "            unit VARCHAR(15) NOT NULL\n",
    "        )\n",
    "        \"\"\",\n",
    "        \"\"\"\n",
    "        CREATE TABLE IF NOT EXISTS customer_dim (\n",
    "            customer_key VARCHAR(10) PRIMARY KEY,\n",
    "            customer_name VARCHAR(100) NOT NULL,\n",
    "            contact_no VARCHAR(20) NOT NULL,\n",
    "            nid VARCHAR(20) NOT NULL\n",
    "        )\n",
    "        \"\"\",\n",
    "        \"\"\"\n",
    "        CREATE TABLE IF NOT EXISTS time_dim (\n",
    "            time_key VARCHAR(10) PRIMARY KEY,\n",
    "            time_date TIMESTAMP NOT NULL,\n",
    "            time_hour smallint NOT NULL,\n",
    "            time_day smallint NOT NULL,\n",
    "            time_week VARCHAR(15) NOT NULL,\n",
    "            time_month smallint NOT NULL,\n",
    "            time_quarter VARCHAR(3) NOT NULL,\n",
    "            time_year smallint NOT NULL\n",
    "        )\n",
    "        \"\"\",\n",
    "        \"\"\"\n",
    "        CREATE TABLE IF NOT EXISTS store_dim (\n",
    "            store_key VARCHAR(10) PRIMARY KEY,\n",
    "            division VARCHAR(20) NOT NULL,\n",
    "            district VARCHAR(30) NOT NULL,\n",
    "            upazila VARCHAR(40) NOT NULL\n",
    "        )\n",
    "        \"\"\",\n",
    "        \"\"\"\n",
    "        CREATE TABLE IF NOT EXISTS fact_table (\n",
    "                payment_key VARCHAR(10) NOT NULL,\n",
    "                customer_key VARCHAR(10) NOT NULL,\n",
    "                time_key VARCHAR(10) NOT NULL,\n",
    "                item_key VARCHAR(10) NOT NULL,\n",
    "                store_key VARCHAR(10) NOT NULL,\n",
    "                quantity INTEGER NOT NULL,\n",
    "                unit VARCHAR(15) NOT NULL,\n",
    "                unit_price DECIMAL NOT NULL,\n",
    "                total_price DECIMAL NOT NULL,\n",
    "                PRIMARY KEY (payment_key , customer_key, time_key, item_key, store_key),\n",
    "                FOREIGN KEY (payment_key)\n",
    "                    REFERENCES trans_dim (payment_key)\n",
    "                    ON UPDATE CASCADE ON DELETE CASCADE,\n",
    "                FOREIGN KEY (customer_key)\n",
    "                    REFERENCES customer_dim (customer_key)\n",
    "                    ON UPDATE CASCADE ON DELETE CASCADE,\n",
    "                FOREIGN KEY (time_key)\n",
    "                    REFERENCES time_dim (time_key)\n",
    "                    ON UPDATE CASCADE ON DELETE CASCADE,\n",
    "                FOREIGN KEY (item_key)\n",
    "                    REFERENCES item_dim (item_key)\n",
    "                    ON UPDATE CASCADE ON DELETE CASCADE,\n",
    "                FOREIGN KEY (store_key)\n",
    "                    REFERENCES store_dim (store_key)\n",
    "                    ON UPDATE CASCADE ON DELETE CASCADE\n",
    "        )\n",
    "        \"\"\")\n",
    "\n",
    "    cur = connection.cursor()\n",
    "    # create table one by one\n",
    "    for command in commands:\n",
    "        cur.execute(command)\n",
    "    # close communication with the PostgreSQL database server\n",
    "    cur.close()\n",
    "    # commit the changes\n",
    "    connection.commit()\n"
   ]
  },
  {
   "cell_type": "code",
   "execution_count": 23,
   "metadata": {
    "ExecuteTime": {
     "end_time": "2023-06-06T15:42:15.081256381Z",
     "start_time": "2023-06-06T15:42:15.034009639Z"
    },
    "collapsed": false
   },
   "outputs": [],
   "source": [
    "con = PostgresConnection().getConnection()\n",
    "create_tables(connection=con)\n",
    "con.close()"
   ]
  },
  {
   "attachments": {},
   "cell_type": "markdown",
   "metadata": {
    "collapsed": false
   },
   "source": [
    "### Read data\n",
    "\n",
    "read data from xlsx file using panda"
   ]
  },
  {
   "cell_type": "code",
   "execution_count": 24,
   "metadata": {
    "ExecuteTime": {
     "start_time": "2023-06-06T15:42:15.078878038Z"
    },
    "collapsed": false
   },
   "outputs": [
    {
     "data": {
      "text/html": [
       "<div>\n",
       "<style scoped>\n",
       "    .dataframe tbody tr th:only-of-type {\n",
       "        vertical-align: middle;\n",
       "    }\n",
       "\n",
       "    .dataframe tbody tr th {\n",
       "        vertical-align: top;\n",
       "    }\n",
       "\n",
       "    .dataframe thead th {\n",
       "        text-align: right;\n",
       "    }\n",
       "</style>\n",
       "<table border=\"1\" class=\"dataframe\">\n",
       "  <thead>\n",
       "    <tr style=\"text-align: right;\">\n",
       "      <th></th>\n",
       "      <th>payment_key</th>\n",
       "      <th>trans_type</th>\n",
       "      <th>bank_name</th>\n",
       "    </tr>\n",
       "  </thead>\n",
       "  <tbody>\n",
       "    <tr>\n",
       "      <th>0</th>\n",
       "      <td>P001</td>\n",
       "      <td>cash</td>\n",
       "      <td>NaN</td>\n",
       "    </tr>\n",
       "    <tr>\n",
       "      <th>1</th>\n",
       "      <td>P002</td>\n",
       "      <td>card</td>\n",
       "      <td>AB Bank Limited</td>\n",
       "    </tr>\n",
       "    <tr>\n",
       "      <th>2</th>\n",
       "      <td>P003</td>\n",
       "      <td>card</td>\n",
       "      <td>Bangladesh Commerce Bank Limited</td>\n",
       "    </tr>\n",
       "    <tr>\n",
       "      <th>3</th>\n",
       "      <td>P004</td>\n",
       "      <td>card</td>\n",
       "      <td>Bank Asia Limited</td>\n",
       "    </tr>\n",
       "    <tr>\n",
       "      <th>4</th>\n",
       "      <td>P005</td>\n",
       "      <td>card</td>\n",
       "      <td>BRAC Bank Limited</td>\n",
       "    </tr>\n",
       "    <tr>\n",
       "      <th>5</th>\n",
       "      <td>P006</td>\n",
       "      <td>card</td>\n",
       "      <td>Citizens Bank Limited</td>\n",
       "    </tr>\n",
       "    <tr>\n",
       "      <th>6</th>\n",
       "      <td>P007</td>\n",
       "      <td>card</td>\n",
       "      <td>City Bank Limited</td>\n",
       "    </tr>\n",
       "    <tr>\n",
       "      <th>7</th>\n",
       "      <td>P008</td>\n",
       "      <td>card</td>\n",
       "      <td>Community Bank Bangladesh Limited</td>\n",
       "    </tr>\n",
       "    <tr>\n",
       "      <th>8</th>\n",
       "      <td>P009</td>\n",
       "      <td>card</td>\n",
       "      <td>Dhaka Bank Limited</td>\n",
       "    </tr>\n",
       "    <tr>\n",
       "      <th>9</th>\n",
       "      <td>P010</td>\n",
       "      <td>card</td>\n",
       "      <td>Dutch-Bangla Bank Limited</td>\n",
       "    </tr>\n",
       "    <tr>\n",
       "      <th>10</th>\n",
       "      <td>P011</td>\n",
       "      <td>card</td>\n",
       "      <td>Eastern Bank Limited</td>\n",
       "    </tr>\n",
       "    <tr>\n",
       "      <th>11</th>\n",
       "      <td>P012</td>\n",
       "      <td>card</td>\n",
       "      <td>IFIC Bank Limited</td>\n",
       "    </tr>\n",
       "    <tr>\n",
       "      <th>12</th>\n",
       "      <td>P013</td>\n",
       "      <td>card</td>\n",
       "      <td>Jamuna Bank Limited</td>\n",
       "    </tr>\n",
       "    <tr>\n",
       "      <th>13</th>\n",
       "      <td>P014</td>\n",
       "      <td>card</td>\n",
       "      <td>Meghna Bank Limited</td>\n",
       "    </tr>\n",
       "    <tr>\n",
       "      <th>14</th>\n",
       "      <td>P015</td>\n",
       "      <td>card</td>\n",
       "      <td>Mercantile Bank Limited</td>\n",
       "    </tr>\n",
       "    <tr>\n",
       "      <th>15</th>\n",
       "      <td>P016</td>\n",
       "      <td>card</td>\n",
       "      <td>Midland Bank Limited</td>\n",
       "    </tr>\n",
       "    <tr>\n",
       "      <th>16</th>\n",
       "      <td>P017</td>\n",
       "      <td>card</td>\n",
       "      <td>Modhumoti Bank Limited</td>\n",
       "    </tr>\n",
       "    <tr>\n",
       "      <th>17</th>\n",
       "      <td>P018</td>\n",
       "      <td>card</td>\n",
       "      <td>Mutual Trust Bank Limited</td>\n",
       "    </tr>\n",
       "    <tr>\n",
       "      <th>18</th>\n",
       "      <td>P019</td>\n",
       "      <td>card</td>\n",
       "      <td>National Bank Limited</td>\n",
       "    </tr>\n",
       "    <tr>\n",
       "      <th>19</th>\n",
       "      <td>P020</td>\n",
       "      <td>card</td>\n",
       "      <td>National Credit &amp; Commerce Bank Limited</td>\n",
       "    </tr>\n",
       "    <tr>\n",
       "      <th>20</th>\n",
       "      <td>P021</td>\n",
       "      <td>card</td>\n",
       "      <td>NRB Bank Limited</td>\n",
       "    </tr>\n",
       "    <tr>\n",
       "      <th>21</th>\n",
       "      <td>P022</td>\n",
       "      <td>card</td>\n",
       "      <td>NRB Commercial Bank Ltd</td>\n",
       "    </tr>\n",
       "    <tr>\n",
       "      <th>22</th>\n",
       "      <td>P023</td>\n",
       "      <td>card</td>\n",
       "      <td>NRB Global Bank Ltd</td>\n",
       "    </tr>\n",
       "    <tr>\n",
       "      <th>23</th>\n",
       "      <td>P024</td>\n",
       "      <td>card</td>\n",
       "      <td>One Bank Limited</td>\n",
       "    </tr>\n",
       "    <tr>\n",
       "      <th>24</th>\n",
       "      <td>P025</td>\n",
       "      <td>card</td>\n",
       "      <td>Padma Bank Limited</td>\n",
       "    </tr>\n",
       "    <tr>\n",
       "      <th>25</th>\n",
       "      <td>P026</td>\n",
       "      <td>card</td>\n",
       "      <td>Premier Bank Limited</td>\n",
       "    </tr>\n",
       "    <tr>\n",
       "      <th>26</th>\n",
       "      <td>P027</td>\n",
       "      <td>card</td>\n",
       "      <td>Prime Bank Limited</td>\n",
       "    </tr>\n",
       "    <tr>\n",
       "      <th>27</th>\n",
       "      <td>P028</td>\n",
       "      <td>card</td>\n",
       "      <td>Pubali Bank Limited</td>\n",
       "    </tr>\n",
       "    <tr>\n",
       "      <th>28</th>\n",
       "      <td>P029</td>\n",
       "      <td>card</td>\n",
       "      <td>Standard Bank Limited</td>\n",
       "    </tr>\n",
       "    <tr>\n",
       "      <th>29</th>\n",
       "      <td>P030</td>\n",
       "      <td>card</td>\n",
       "      <td>Shimanto Bank Ltd</td>\n",
       "    </tr>\n",
       "    <tr>\n",
       "      <th>30</th>\n",
       "      <td>P031</td>\n",
       "      <td>card</td>\n",
       "      <td>Southeast Bank Limited</td>\n",
       "    </tr>\n",
       "    <tr>\n",
       "      <th>31</th>\n",
       "      <td>P032</td>\n",
       "      <td>card</td>\n",
       "      <td>South Bangla Agriculture and Commerce Bank Lim...</td>\n",
       "    </tr>\n",
       "    <tr>\n",
       "      <th>32</th>\n",
       "      <td>P033</td>\n",
       "      <td>card</td>\n",
       "      <td>Trust Bank Limited</td>\n",
       "    </tr>\n",
       "    <tr>\n",
       "      <th>33</th>\n",
       "      <td>P034</td>\n",
       "      <td>card</td>\n",
       "      <td>United Commercial Bank Ltd</td>\n",
       "    </tr>\n",
       "    <tr>\n",
       "      <th>34</th>\n",
       "      <td>P035</td>\n",
       "      <td>card</td>\n",
       "      <td>Uttara Bank Limited</td>\n",
       "    </tr>\n",
       "    <tr>\n",
       "      <th>35</th>\n",
       "      <td>P036</td>\n",
       "      <td>card</td>\n",
       "      <td>Bengal Commercial Bank Ltd</td>\n",
       "    </tr>\n",
       "    <tr>\n",
       "      <th>36</th>\n",
       "      <td>P037</td>\n",
       "      <td>mobile</td>\n",
       "      <td>Bkash</td>\n",
       "    </tr>\n",
       "    <tr>\n",
       "      <th>37</th>\n",
       "      <td>P038</td>\n",
       "      <td>mobile</td>\n",
       "      <td>Rocket</td>\n",
       "    </tr>\n",
       "    <tr>\n",
       "      <th>38</th>\n",
       "      <td>P039</td>\n",
       "      <td>mobile</td>\n",
       "      <td>Nagad</td>\n",
       "    </tr>\n",
       "  </tbody>\n",
       "</table>\n",
       "</div>"
      ],
      "text/plain": [
       "   payment_key trans_type                                          bank_name\n",
       "0         P001       cash                                                NaN\n",
       "1         P002       card                                    AB Bank Limited\n",
       "2         P003       card                   Bangladesh Commerce Bank Limited\n",
       "3         P004       card                                  Bank Asia Limited\n",
       "4         P005       card                                  BRAC Bank Limited\n",
       "5         P006       card                              Citizens Bank Limited\n",
       "6         P007       card                                  City Bank Limited\n",
       "7         P008       card                  Community Bank Bangladesh Limited\n",
       "8         P009       card                                 Dhaka Bank Limited\n",
       "9         P010       card                          Dutch-Bangla Bank Limited\n",
       "10        P011       card                               Eastern Bank Limited\n",
       "11        P012       card                                  IFIC Bank Limited\n",
       "12        P013       card                                Jamuna Bank Limited\n",
       "13        P014       card                                Meghna Bank Limited\n",
       "14        P015       card                            Mercantile Bank Limited\n",
       "15        P016       card                               Midland Bank Limited\n",
       "16        P017       card                             Modhumoti Bank Limited\n",
       "17        P018       card                          Mutual Trust Bank Limited\n",
       "18        P019       card                              National Bank Limited\n",
       "19        P020       card            National Credit & Commerce Bank Limited\n",
       "20        P021       card                                   NRB Bank Limited\n",
       "21        P022       card                            NRB Commercial Bank Ltd\n",
       "22        P023       card                                NRB Global Bank Ltd\n",
       "23        P024       card                                   One Bank Limited\n",
       "24        P025       card                                 Padma Bank Limited\n",
       "25        P026       card                               Premier Bank Limited\n",
       "26        P027       card                                 Prime Bank Limited\n",
       "27        P028       card                                Pubali Bank Limited\n",
       "28        P029       card                              Standard Bank Limited\n",
       "29        P030       card                                  Shimanto Bank Ltd\n",
       "30        P031       card                             Southeast Bank Limited\n",
       "31        P032       card  South Bangla Agriculture and Commerce Bank Lim...\n",
       "32        P033       card                                 Trust Bank Limited\n",
       "33        P034       card                         United Commercial Bank Ltd\n",
       "34        P035       card                                Uttara Bank Limited\n",
       "35        P036       card                         Bengal Commercial Bank Ltd\n",
       "36        P037     mobile                                              Bkash\n",
       "37        P038     mobile                                             Rocket\n",
       "38        P039     mobile                                              Nagad"
      ]
     },
     "execution_count": 24,
     "metadata": {},
     "output_type": "execute_result"
    }
   ],
   "source": [
    "trans_dim = pd.read_excel(r'../../data/e-commerece_data.xlsx', sheet_name='Trans_dim', engine='openpyxl')\n",
    "\n",
    "trans_dim"
   ]
  },
  {
   "cell_type": "code",
   "execution_count": 25,
   "metadata": {
    "collapsed": false
   },
   "outputs": [
    {
     "data": {
      "text/html": [
       "<div>\n",
       "<style scoped>\n",
       "    .dataframe tbody tr th:only-of-type {\n",
       "        vertical-align: middle;\n",
       "    }\n",
       "\n",
       "    .dataframe tbody tr th {\n",
       "        vertical-align: top;\n",
       "    }\n",
       "\n",
       "    .dataframe thead th {\n",
       "        text-align: right;\n",
       "    }\n",
       "</style>\n",
       "<table border=\"1\" class=\"dataframe\">\n",
       "  <thead>\n",
       "    <tr style=\"text-align: right;\">\n",
       "      <th></th>\n",
       "      <th>item_key</th>\n",
       "      <th>item_name</th>\n",
       "      <th>desc</th>\n",
       "      <th>unit_price</th>\n",
       "      <th>man_country</th>\n",
       "      <th>supplier</th>\n",
       "      <th>unit</th>\n",
       "    </tr>\n",
       "  </thead>\n",
       "  <tbody>\n",
       "    <tr>\n",
       "      <th>0</th>\n",
       "      <td>I00001</td>\n",
       "      <td>A&amp;W Root Beer - 12 oz cans</td>\n",
       "      <td>a. Beverage - Soda</td>\n",
       "      <td>11.50</td>\n",
       "      <td>Netherlands</td>\n",
       "      <td>Bolsius Boxmeer</td>\n",
       "      <td>cans</td>\n",
       "    </tr>\n",
       "    <tr>\n",
       "      <th>1</th>\n",
       "      <td>I00002</td>\n",
       "      <td>A&amp;W Root Beer Diet - 12 oz cans</td>\n",
       "      <td>a. Beverage - Soda</td>\n",
       "      <td>6.75</td>\n",
       "      <td>poland</td>\n",
       "      <td>CHROMADURLIN S.A.S</td>\n",
       "      <td>cans</td>\n",
       "    </tr>\n",
       "    <tr>\n",
       "      <th>2</th>\n",
       "      <td>I00003</td>\n",
       "      <td>Barq's Root Beer - 12 oz cans</td>\n",
       "      <td>a. Beverage - Soda</td>\n",
       "      <td>6.75</td>\n",
       "      <td>Bangladesh</td>\n",
       "      <td>DENIMACH LTD</td>\n",
       "      <td>cans</td>\n",
       "    </tr>\n",
       "    <tr>\n",
       "      <th>3</th>\n",
       "      <td>I00004</td>\n",
       "      <td>Cherry Coke 12oz</td>\n",
       "      <td>a. Beverage - Soda</td>\n",
       "      <td>6.75</td>\n",
       "      <td>Netherlands</td>\n",
       "      <td>Bolsius Boxmeer</td>\n",
       "      <td>cans</td>\n",
       "    </tr>\n",
       "    <tr>\n",
       "      <th>4</th>\n",
       "      <td>I00005</td>\n",
       "      <td>Cherry Coke Zero 12 pack</td>\n",
       "      <td>a. Beverage - Soda</td>\n",
       "      <td>6.75</td>\n",
       "      <td>Finland</td>\n",
       "      <td>HARDFORD AB</td>\n",
       "      <td>cans</td>\n",
       "    </tr>\n",
       "    <tr>\n",
       "      <th>...</th>\n",
       "      <td>...</td>\n",
       "      <td>...</td>\n",
       "      <td>...</td>\n",
       "      <td>...</td>\n",
       "      <td>...</td>\n",
       "      <td>...</td>\n",
       "      <td>...</td>\n",
       "    </tr>\n",
       "    <tr>\n",
       "      <th>259</th>\n",
       "      <td>I00260</td>\n",
       "      <td>Napkins Square Lunch</td>\n",
       "      <td>Kitchen Supplies</td>\n",
       "      <td>15.00</td>\n",
       "      <td>Cambodia</td>\n",
       "      <td>NINGBO SEDUNO IMP &amp; EXP CO.LTD</td>\n",
       "      <td>ct</td>\n",
       "    </tr>\n",
       "    <tr>\n",
       "      <th>260</th>\n",
       "      <td>I00261</td>\n",
       "      <td>POM 2 ply paper towels</td>\n",
       "      <td>Kitchen Supplies</td>\n",
       "      <td>33.00</td>\n",
       "      <td>Lithuania</td>\n",
       "      <td>BIGSO AB</td>\n",
       "      <td>ct</td>\n",
       "    </tr>\n",
       "    <tr>\n",
       "      <th>261</th>\n",
       "      <td>I00262</td>\n",
       "      <td>Strong Everyday Napkins</td>\n",
       "      <td>Kitchen Supplies</td>\n",
       "      <td>14.00</td>\n",
       "      <td>Netherlands</td>\n",
       "      <td>Bolsius Boxmeer</td>\n",
       "      <td>ct</td>\n",
       "    </tr>\n",
       "    <tr>\n",
       "      <th>262</th>\n",
       "      <td>I00263</td>\n",
       "      <td>Advil 2 pill packets</td>\n",
       "      <td>Medicine</td>\n",
       "      <td>14.00</td>\n",
       "      <td>Lithuania</td>\n",
       "      <td>BIGSO AB</td>\n",
       "      <td>Ct</td>\n",
       "    </tr>\n",
       "    <tr>\n",
       "      <th>263</th>\n",
       "      <td>I00264</td>\n",
       "      <td>Tylenol Extra Strength 2 pill packets</td>\n",
       "      <td>Medicine</td>\n",
       "      <td>15.00</td>\n",
       "      <td>India</td>\n",
       "      <td>Indo Count Industries Ltd</td>\n",
       "      <td>Ct</td>\n",
       "    </tr>\n",
       "  </tbody>\n",
       "</table>\n",
       "<p>264 rows × 7 columns</p>\n",
       "</div>"
      ],
      "text/plain": [
       "    item_key                              item_name                desc  \\\n",
       "0     I00001             A&W Root Beer - 12 oz cans  a. Beverage - Soda   \n",
       "1     I00002        A&W Root Beer Diet - 12 oz cans  a. Beverage - Soda   \n",
       "2     I00003          Barq's Root Beer - 12 oz cans  a. Beverage - Soda   \n",
       "3     I00004                       Cherry Coke 12oz  a. Beverage - Soda   \n",
       "4     I00005               Cherry Coke Zero 12 pack  a. Beverage - Soda   \n",
       "..       ...                                    ...                 ...   \n",
       "259   I00260                   Napkins Square Lunch    Kitchen Supplies   \n",
       "260   I00261                 POM 2 ply paper towels    Kitchen Supplies   \n",
       "261   I00262                Strong Everyday Napkins    Kitchen Supplies   \n",
       "262   I00263                   Advil 2 pill packets            Medicine   \n",
       "263   I00264  Tylenol Extra Strength 2 pill packets            Medicine   \n",
       "\n",
       "     unit_price  man_country                        supplier  unit  \n",
       "0         11.50  Netherlands                 Bolsius Boxmeer  cans  \n",
       "1          6.75       poland              CHROMADURLIN S.A.S  cans  \n",
       "2          6.75   Bangladesh                    DENIMACH LTD  cans  \n",
       "3          6.75  Netherlands                 Bolsius Boxmeer  cans  \n",
       "4          6.75      Finland                     HARDFORD AB  cans  \n",
       "..          ...          ...                             ...   ...  \n",
       "259       15.00     Cambodia  NINGBO SEDUNO IMP & EXP CO.LTD    ct  \n",
       "260       33.00    Lithuania                        BIGSO AB    ct  \n",
       "261       14.00  Netherlands                 Bolsius Boxmeer    ct  \n",
       "262       14.00    Lithuania                        BIGSO AB    Ct  \n",
       "263       15.00        India       Indo Count Industries Ltd    Ct  \n",
       "\n",
       "[264 rows x 7 columns]"
      ]
     },
     "execution_count": 25,
     "metadata": {},
     "output_type": "execute_result"
    }
   ],
   "source": [
    "item_dim = pd.read_excel(r'../../data/e-commerece_data.xlsx', sheet_name='Item_dim', engine='openpyxl')\n",
    "\n",
    "item_dim"
   ]
  },
  {
   "cell_type": "code",
   "execution_count": 26,
   "metadata": {
    "collapsed": false
   },
   "outputs": [],
   "source": [
    "customer_dim = pd.read_excel(r'../../data/e-commerece_data.xlsx', sheet_name='Coustomer_dim', engine='openpyxl')\n",
    "\n",
    "customer_dim"
   ]
  },
  {
   "cell_type": "code",
   "execution_count": null,
   "metadata": {
    "collapsed": false
   },
   "outputs": [],
   "source": [
    "time_dim = pd.read_excel(r'../../data/e-commerece_data.xlsx', sheet_name='Time_dim', engine='openpyxl')\n",
    "time_dim['date'] = pd.to_datetime(time_dim['date'], format='%d-%m-%Y %H:%M')\n",
    "time_dim"
   ]
  },
  {
   "cell_type": "code",
   "execution_count": null,
   "metadata": {
    "collapsed": false
   },
   "outputs": [],
   "source": [
    "store_dim = pd.read_excel(r'../../data/e-commerece_data.xlsx', sheet_name='Store_dim', engine='openpyxl')\n",
    "\n",
    "store_dim"
   ]
  },
  {
   "cell_type": "code",
   "execution_count": null,
   "metadata": {
    "collapsed": false
   },
   "outputs": [],
   "source": [
    "fact_table = pd.read_excel(r'../../data/e-commerece_data.xlsx', sheet_name='Fact_table', engine='openpyxl')\n",
    "\n",
    "fact_table"
   ]
  },
  {
   "attachments": {},
   "cell_type": "markdown",
   "metadata": {
    "collapsed": false
   },
   "source": [
    "### Insert data\n",
    "\n",
    "Insert data into db from pandas\n",
    "\n",
    "#### Insert into trans_dim table"
   ]
  },
  {
   "cell_type": "code",
   "execution_count": null,
   "metadata": {
    "collapsed": false
   },
   "outputs": [],
   "source": [
    "con = PostgresConnection().getConnection()\n",
    "insert_stmt = \"INSERT INTO trans_dim(payment_key, trans_type, bank_name) VALUES (%s, %s, %s)\"\n",
    "cur = con.cursor()\n",
    "psycopg2.extras.execute_batch(cur, insert_stmt, trans_dim.values)\n",
    "con.commit()\n",
    "cur.close()\n",
    "con.close()"
   ]
  },
  {
   "attachments": {},
   "cell_type": "markdown",
   "metadata": {
    "collapsed": false
   },
   "source": [
    "#### Insert into customer_dim table"
   ]
  },
  {
   "cell_type": "code",
   "execution_count": null,
   "metadata": {
    "collapsed": false
   },
   "outputs": [],
   "source": [
    "con = PostgresConnection().getConnection()\n",
    "insert_stmt = \"INSERT INTO customer_dim(customer_key, customer_name, contact_no, nid) VALUES (%s, %s, %s, %s)\"\n",
    "cur = con.cursor()\n",
    "psycopg2.extras.execute_batch(cur, insert_stmt, customer_dim.values)\n",
    "con.commit()\n",
    "cur.close()\n",
    "con.close()"
   ]
  },
  {
   "attachments": {},
   "cell_type": "markdown",
   "metadata": {
    "collapsed": false
   },
   "source": [
    "#### Insert into item_dim table\n"
   ]
  },
  {
   "cell_type": "code",
   "execution_count": null,
   "metadata": {
    "collapsed": false
   },
   "outputs": [],
   "source": [
    "con = PostgresConnection().getConnection()\n",
    "insert_stmt = \"INSERT INTO item_dim(item_key, item_name, item_desc, unit_price, man_country, supplier, unit) VALUES (%s, %s, %s, %s, %s, %s, %s)\"\n",
    "cur = con.cursor()\n",
    "psycopg2.extras.execute_batch(cur, insert_stmt, item_dim.values)\n",
    "con.commit()\n",
    "cur.close()\n",
    "con.close()"
   ]
  },
  {
   "attachments": {},
   "cell_type": "markdown",
   "metadata": {
    "collapsed": false
   },
   "source": [
    "#### Insert into store_dim table"
   ]
  },
  {
   "cell_type": "code",
   "execution_count": null,
   "metadata": {
    "collapsed": false
   },
   "outputs": [],
   "source": [
    "con = PostgresConnection().getConnection()\n",
    "insert_stmt = \"INSERT INTO store_dim(store_key, division, district, upazila) VALUES (%s, %s, %s, %s)\"\n",
    "cur = con.cursor()\n",
    "psycopg2.extras.execute_batch(cur, insert_stmt, store_dim.values)\n",
    "con.commit()\n",
    "cur.close()\n",
    "con.close()"
   ]
  },
  {
   "attachments": {},
   "cell_type": "markdown",
   "metadata": {
    "collapsed": false
   },
   "source": [
    "#### Insert into time_dim table"
   ]
  },
  {
   "cell_type": "code",
   "execution_count": null,
   "metadata": {
    "collapsed": false
   },
   "outputs": [],
   "source": [
    "con = PostgresConnection().getConnection()\n",
    "insert_stmt = \"INSERT INTO time_dim(time_key, time_date, time_hour, time_day, time_week, time_month, time_quarter, time_year)VALUES (%s, %s, %s, %s, %s, %s, %s, %s);\"\n",
    "cur = con.cursor()\n",
    "psycopg2.extras.execute_batch(cur, insert_stmt, time_dim.values)\n",
    "con.commit()\n",
    "cur.close()\n",
    "con.close()"
   ]
  },
  {
   "attachments": {},
   "cell_type": "markdown",
   "metadata": {
    "collapsed": false
   },
   "source": [
    "#### Insert into fact_table table"
   ]
  },
  {
   "cell_type": "code",
   "execution_count": null,
   "metadata": {
    "collapsed": false
   },
   "outputs": [],
   "source": [
    "con = PostgresConnection().getConnection()\n",
    "insert_stmt = \"INSERT INTO fact_table(payment_key, customer_key, time_key, item_key, store_key, quantity, unit, unit_price, total_price)VALUES (%s, %s, %s, %s, %s, %s, %s, %s, %s);\"\n",
    "cur = con.cursor()\n",
    "psycopg2.extras.execute_batch(cur, insert_stmt, fact_table.values)\n",
    "con.commit()\n",
    "cur.close()\n",
    "con.close()"
   ]
  },
  {
   "cell_type": "code",
   "execution_count": null,
   "metadata": {
    "collapsed": false
   },
   "outputs": [],
   "source": []
  }
 ],
 "metadata": {
  "kernelspec": {
   "display_name": "Python 3",
   "language": "python",
   "name": "python3"
  },
  "language_info": {
   "codemirror_mode": {
    "name": "ipython",
    "version": 3
   },
   "file_extension": ".py",
   "mimetype": "text/x-python",
   "name": "python",
   "nbconvert_exporter": "python",
   "pygments_lexer": "ipython3",
   "version": "3.10.10"
  }
 },
 "nbformat": 4,
 "nbformat_minor": 0
}
