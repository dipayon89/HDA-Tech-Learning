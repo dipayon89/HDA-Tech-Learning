{
 "cells": [
  {
   "cell_type": "markdown",
   "source": [
    "## Install packages\n",
    "\n",
    "install required python packages"
   ],
   "metadata": {
    "collapsed": false
   }
  },
  {
   "cell_type": "code",
   "execution_count": 1,
   "outputs": [
    {
     "name": "stdout",
     "output_type": "stream",
     "text": [
      "Requirement already satisfied: psycopg2 in /media/dhiman/Work-Backup/MS NSU/Distributed Database/Assignment/HDA-Tech-Learning/venv/lib/python3.10/site-packages (2.9.6)\r\n",
      "Note: you may need to restart the kernel to use updated packages.\n",
      "Requirement already satisfied: pandas in /media/dhiman/Work-Backup/MS NSU/Distributed Database/Assignment/HDA-Tech-Learning/venv/lib/python3.10/site-packages (2.0.0)\r\n",
      "Requirement already satisfied: tzdata>=2022.1 in /media/dhiman/Work-Backup/MS NSU/Distributed Database/Assignment/HDA-Tech-Learning/venv/lib/python3.10/site-packages (from pandas) (2023.3)\r\n",
      "Requirement already satisfied: python-dateutil>=2.8.2 in /media/dhiman/Work-Backup/MS NSU/Distributed Database/Assignment/HDA-Tech-Learning/venv/lib/python3.10/site-packages (from pandas) (2.8.2)\r\n",
      "Requirement already satisfied: pytz>=2020.1 in /media/dhiman/Work-Backup/MS NSU/Distributed Database/Assignment/HDA-Tech-Learning/venv/lib/python3.10/site-packages (from pandas) (2023.3)\r\n",
      "Requirement already satisfied: numpy>=1.21.0 in /media/dhiman/Work-Backup/MS NSU/Distributed Database/Assignment/HDA-Tech-Learning/venv/lib/python3.10/site-packages (from pandas) (1.24.2)\r\n",
      "Requirement already satisfied: six>=1.5 in /media/dhiman/Work-Backup/MS NSU/Distributed Database/Assignment/HDA-Tech-Learning/venv/lib/python3.10/site-packages (from python-dateutil>=2.8.2->pandas) (1.16.0)\r\n",
      "Note: you may need to restart the kernel to use updated packages.\n",
      "Requirement already satisfied: openpyxl in /media/dhiman/Work-Backup/MS NSU/Distributed Database/Assignment/HDA-Tech-Learning/venv/lib/python3.10/site-packages (3.1.2)\r\n",
      "Requirement already satisfied: et-xmlfile in /media/dhiman/Work-Backup/MS NSU/Distributed Database/Assignment/HDA-Tech-Learning/venv/lib/python3.10/site-packages (from openpyxl) (1.1.0)\r\n",
      "Note: you may need to restart the kernel to use updated packages.\n"
     ]
    }
   ],
   "source": [
    "%pip install psycopg2\n",
    "%pip install pandas\n",
    "%pip install openpyxl"
   ],
   "metadata": {
    "collapsed": false
   }
  },
  {
   "cell_type": "markdown",
   "source": [
    "## Import modules\n",
    "\n",
    "import required python modules for data load"
   ],
   "metadata": {
    "collapsed": false
   }
  },
  {
   "cell_type": "code",
   "execution_count": 2,
   "outputs": [],
   "source": [
    "import psycopg2\n",
    "import pandas as pd\n",
    "import psycopg2.extras"
   ],
   "metadata": {
    "collapsed": false
   }
  },
  {
   "cell_type": "markdown",
   "source": [
    "### PostgreSQL Connector\n"
   ],
   "metadata": {
    "collapsed": false
   }
  },
  {
   "cell_type": "code",
   "execution_count": 3,
   "outputs": [],
   "source": [
    "\n",
    "class PostgresConnection(object):\n",
    "    def __init__(self):\n",
    "        self.connection = psycopg2.connect(database=\"ecomdb\",\n",
    "                                           user = \"dhiman\",\n",
    "                                           password = \"dhiman1234\",\n",
    "                                           host = \"127.0.0.1\",\n",
    "                                           port = \"5432\")\n",
    "\n",
    "    def getConnection(self):\n",
    "        print(\"successfully connected to database\")\n",
    "        return self.connection"
   ],
   "metadata": {
    "collapsed": false
   }
  },
  {
   "cell_type": "markdown",
   "source": [],
   "metadata": {
    "collapsed": false
   }
  },
  {
   "cell_type": "markdown",
   "source": [
    "### create Star Schema in the PostgreSQL database"
   ],
   "metadata": {
    "collapsed": false
   }
  },
  {
   "cell_type": "code",
   "execution_count": 4,
   "outputs": [],
   "source": [
    "def create_tables(connection):\n",
    "    commands = (\n",
    "        \"\"\"\n",
    "        CREATE TABLE IF NOT EXISTS trans_dim (\n",
    "            payment_key VARCHAR(10) PRIMARY KEY,\n",
    "            trans_type VARCHAR(10) NOT NULL,\n",
    "            bank_name VARCHAR(100)\n",
    "        )\n",
    "        \"\"\",\n",
    "        \"\"\" CREATE TABLE IF NOT EXISTS item_dim (\n",
    "            item_key VARCHAR(10) PRIMARY KEY,\n",
    "            item_name VARCHAR(255) NOT NULL,\n",
    "            item_desc VARCHAR(255) NOT NULL,\n",
    "            unit_price MONEY NOT NULL,\n",
    "            man_country VARCHAR(100) NOT NULL,\n",
    "            supplier VARCHAR(255) NOT NULL,\n",
    "            unit VARCHAR(15) NOT NULL\n",
    "        )\n",
    "        \"\"\",\n",
    "        \"\"\"\n",
    "        CREATE TABLE IF NOT EXISTS customer_dim (\n",
    "            customer_key VARCHAR(10) PRIMARY KEY,\n",
    "            customer_name VARCHAR(100) NOT NULL,\n",
    "            contact_no VARCHAR(20) NOT NULL,\n",
    "            nid VARCHAR(20) NOT NULL\n",
    "        )\n",
    "        \"\"\",\n",
    "        \"\"\"\n",
    "        CREATE TABLE IF NOT EXISTS time_dim (\n",
    "            time_key VARCHAR(10) PRIMARY KEY,\n",
    "            time_date VARCHAR(20) NOT NULL,\n",
    "            time_hour smallint NOT NULL,\n",
    "            time_day smallint NOT NULL,\n",
    "            time_week VARCHAR(15) NOT NULL,\n",
    "            time_month smallint NOT NULL,\n",
    "            time_quarter VARCHAR(3) NOT NULL,\n",
    "            time_year smallint NOT NULL\n",
    "        )\n",
    "        \"\"\",\n",
    "        \"\"\"\n",
    "        CREATE TABLE IF NOT EXISTS store_dim (\n",
    "            store_key VARCHAR(10) PRIMARY KEY,\n",
    "            division VARCHAR(20) NOT NULL,\n",
    "            district VARCHAR(30) NOT NULL,\n",
    "            upazila VARCHAR(40) NOT NULL\n",
    "        )\n",
    "        \"\"\",\n",
    "        \"\"\"\n",
    "        CREATE TABLE IF NOT EXISTS fact_table (\n",
    "                payment_key VARCHAR(10) NOT NULL,\n",
    "                customer_key VARCHAR(10) NOT NULL,\n",
    "                time_key VARCHAR(10) NOT NULL,\n",
    "                item_key VARCHAR(10) NOT NULL,\n",
    "                store_key VARCHAR(10) NOT NULL,\n",
    "                quantity INTEGER NOT NULL,\n",
    "                unit VARCHAR(15) NOT NULL,\n",
    "                unit_price MONEY NOT NULL,\n",
    "                total_price MONEY NOT NULL,\n",
    "                PRIMARY KEY (payment_key , customer_key, time_key, item_key, store_key),\n",
    "                FOREIGN KEY (payment_key)\n",
    "                    REFERENCES trans_dim (payment_key)\n",
    "                    ON UPDATE CASCADE ON DELETE CASCADE,\n",
    "                FOREIGN KEY (customer_key)\n",
    "                    REFERENCES customer_dim (customer_key)\n",
    "                    ON UPDATE CASCADE ON DELETE CASCADE,\n",
    "                FOREIGN KEY (time_key)\n",
    "                    REFERENCES time_dim (time_key)\n",
    "                    ON UPDATE CASCADE ON DELETE CASCADE,\n",
    "                FOREIGN KEY (item_key)\n",
    "                    REFERENCES item_dim (item_key)\n",
    "                    ON UPDATE CASCADE ON DELETE CASCADE,\n",
    "                FOREIGN KEY (store_key)\n",
    "                    REFERENCES store_dim (store_key)\n",
    "                    ON UPDATE CASCADE ON DELETE CASCADE\n",
    "        )\n",
    "        \"\"\")\n",
    "\n",
    "    cur = connection.cursor()\n",
    "    # create table one by one\n",
    "    for command in commands:\n",
    "        cur.execute(command)\n",
    "    # close communication with the PostgreSQL database server\n",
    "    cur.close()\n",
    "    # commit the changes\n",
    "    connection.commit()\n"
   ],
   "metadata": {
    "collapsed": false
   }
  },
  {
   "cell_type": "code",
   "execution_count": 5,
   "outputs": [
    {
     "name": "stdout",
     "output_type": "stream",
     "text": [
      "successfully connected to database\n"
     ]
    }
   ],
   "source": [
    "con = PostgresConnection().getConnection()\n",
    "create_tables(connection=con)\n",
    "con.close()"
   ],
   "metadata": {
    "collapsed": false
   }
  },
  {
   "cell_type": "markdown",
   "source": [
    "### Read data\n",
    "\n",
    "read data from xlsx file using panda"
   ],
   "metadata": {
    "collapsed": false
   }
  },
  {
   "cell_type": "code",
   "execution_count": 6,
   "outputs": [
    {
     "data": {
      "text/plain": "   payment_key trans_type                                          bank_name\n0         P001       cash                                                NaN\n1         P002       card                                    AB Bank Limited\n2         P003       card                   Bangladesh Commerce Bank Limited\n3         P004       card                                  Bank Asia Limited\n4         P005       card                                  BRAC Bank Limited\n5         P006       card                              Citizens Bank Limited\n6         P007       card                                  City Bank Limited\n7         P008       card                  Community Bank Bangladesh Limited\n8         P009       card                                 Dhaka Bank Limited\n9         P010       card                          Dutch-Bangla Bank Limited\n10        P011       card                               Eastern Bank Limited\n11        P012       card                                  IFIC Bank Limited\n12        P013       card                                Jamuna Bank Limited\n13        P014       card                                Meghna Bank Limited\n14        P015       card                            Mercantile Bank Limited\n15        P016       card                               Midland Bank Limited\n16        P017       card                             Modhumoti Bank Limited\n17        P018       card                          Mutual Trust Bank Limited\n18        P019       card                              National Bank Limited\n19        P020       card            National Credit & Commerce Bank Limited\n20        P021       card                                   NRB Bank Limited\n21        P022       card                            NRB Commercial Bank Ltd\n22        P023       card                                NRB Global Bank Ltd\n23        P024       card                                   One Bank Limited\n24        P025       card                                 Padma Bank Limited\n25        P026       card                               Premier Bank Limited\n26        P027       card                                 Prime Bank Limited\n27        P028       card                                Pubali Bank Limited\n28        P029       card                              Standard Bank Limited\n29        P030       card                                  Shimanto Bank Ltd\n30        P031       card                             Southeast Bank Limited\n31        P032       card  South Bangla Agriculture and Commerce Bank Lim...\n32        P033       card                                 Trust Bank Limited\n33        P034       card                         United Commercial Bank Ltd\n34        P035       card                                Uttara Bank Limited\n35        P036       card                         Bengal Commercial Bank Ltd\n36        P037     mobile                                              Bkash\n37        P038     mobile                                             Rocket\n38        P039     mobile                                              Nagad",
      "text/html": "<div>\n<style scoped>\n    .dataframe tbody tr th:only-of-type {\n        vertical-align: middle;\n    }\n\n    .dataframe tbody tr th {\n        vertical-align: top;\n    }\n\n    .dataframe thead th {\n        text-align: right;\n    }\n</style>\n<table border=\"1\" class=\"dataframe\">\n  <thead>\n    <tr style=\"text-align: right;\">\n      <th></th>\n      <th>payment_key</th>\n      <th>trans_type</th>\n      <th>bank_name</th>\n    </tr>\n  </thead>\n  <tbody>\n    <tr>\n      <th>0</th>\n      <td>P001</td>\n      <td>cash</td>\n      <td>NaN</td>\n    </tr>\n    <tr>\n      <th>1</th>\n      <td>P002</td>\n      <td>card</td>\n      <td>AB Bank Limited</td>\n    </tr>\n    <tr>\n      <th>2</th>\n      <td>P003</td>\n      <td>card</td>\n      <td>Bangladesh Commerce Bank Limited</td>\n    </tr>\n    <tr>\n      <th>3</th>\n      <td>P004</td>\n      <td>card</td>\n      <td>Bank Asia Limited</td>\n    </tr>\n    <tr>\n      <th>4</th>\n      <td>P005</td>\n      <td>card</td>\n      <td>BRAC Bank Limited</td>\n    </tr>\n    <tr>\n      <th>5</th>\n      <td>P006</td>\n      <td>card</td>\n      <td>Citizens Bank Limited</td>\n    </tr>\n    <tr>\n      <th>6</th>\n      <td>P007</td>\n      <td>card</td>\n      <td>City Bank Limited</td>\n    </tr>\n    <tr>\n      <th>7</th>\n      <td>P008</td>\n      <td>card</td>\n      <td>Community Bank Bangladesh Limited</td>\n    </tr>\n    <tr>\n      <th>8</th>\n      <td>P009</td>\n      <td>card</td>\n      <td>Dhaka Bank Limited</td>\n    </tr>\n    <tr>\n      <th>9</th>\n      <td>P010</td>\n      <td>card</td>\n      <td>Dutch-Bangla Bank Limited</td>\n    </tr>\n    <tr>\n      <th>10</th>\n      <td>P011</td>\n      <td>card</td>\n      <td>Eastern Bank Limited</td>\n    </tr>\n    <tr>\n      <th>11</th>\n      <td>P012</td>\n      <td>card</td>\n      <td>IFIC Bank Limited</td>\n    </tr>\n    <tr>\n      <th>12</th>\n      <td>P013</td>\n      <td>card</td>\n      <td>Jamuna Bank Limited</td>\n    </tr>\n    <tr>\n      <th>13</th>\n      <td>P014</td>\n      <td>card</td>\n      <td>Meghna Bank Limited</td>\n    </tr>\n    <tr>\n      <th>14</th>\n      <td>P015</td>\n      <td>card</td>\n      <td>Mercantile Bank Limited</td>\n    </tr>\n    <tr>\n      <th>15</th>\n      <td>P016</td>\n      <td>card</td>\n      <td>Midland Bank Limited</td>\n    </tr>\n    <tr>\n      <th>16</th>\n      <td>P017</td>\n      <td>card</td>\n      <td>Modhumoti Bank Limited</td>\n    </tr>\n    <tr>\n      <th>17</th>\n      <td>P018</td>\n      <td>card</td>\n      <td>Mutual Trust Bank Limited</td>\n    </tr>\n    <tr>\n      <th>18</th>\n      <td>P019</td>\n      <td>card</td>\n      <td>National Bank Limited</td>\n    </tr>\n    <tr>\n      <th>19</th>\n      <td>P020</td>\n      <td>card</td>\n      <td>National Credit &amp; Commerce Bank Limited</td>\n    </tr>\n    <tr>\n      <th>20</th>\n      <td>P021</td>\n      <td>card</td>\n      <td>NRB Bank Limited</td>\n    </tr>\n    <tr>\n      <th>21</th>\n      <td>P022</td>\n      <td>card</td>\n      <td>NRB Commercial Bank Ltd</td>\n    </tr>\n    <tr>\n      <th>22</th>\n      <td>P023</td>\n      <td>card</td>\n      <td>NRB Global Bank Ltd</td>\n    </tr>\n    <tr>\n      <th>23</th>\n      <td>P024</td>\n      <td>card</td>\n      <td>One Bank Limited</td>\n    </tr>\n    <tr>\n      <th>24</th>\n      <td>P025</td>\n      <td>card</td>\n      <td>Padma Bank Limited</td>\n    </tr>\n    <tr>\n      <th>25</th>\n      <td>P026</td>\n      <td>card</td>\n      <td>Premier Bank Limited</td>\n    </tr>\n    <tr>\n      <th>26</th>\n      <td>P027</td>\n      <td>card</td>\n      <td>Prime Bank Limited</td>\n    </tr>\n    <tr>\n      <th>27</th>\n      <td>P028</td>\n      <td>card</td>\n      <td>Pubali Bank Limited</td>\n    </tr>\n    <tr>\n      <th>28</th>\n      <td>P029</td>\n      <td>card</td>\n      <td>Standard Bank Limited</td>\n    </tr>\n    <tr>\n      <th>29</th>\n      <td>P030</td>\n      <td>card</td>\n      <td>Shimanto Bank Ltd</td>\n    </tr>\n    <tr>\n      <th>30</th>\n      <td>P031</td>\n      <td>card</td>\n      <td>Southeast Bank Limited</td>\n    </tr>\n    <tr>\n      <th>31</th>\n      <td>P032</td>\n      <td>card</td>\n      <td>South Bangla Agriculture and Commerce Bank Lim...</td>\n    </tr>\n    <tr>\n      <th>32</th>\n      <td>P033</td>\n      <td>card</td>\n      <td>Trust Bank Limited</td>\n    </tr>\n    <tr>\n      <th>33</th>\n      <td>P034</td>\n      <td>card</td>\n      <td>United Commercial Bank Ltd</td>\n    </tr>\n    <tr>\n      <th>34</th>\n      <td>P035</td>\n      <td>card</td>\n      <td>Uttara Bank Limited</td>\n    </tr>\n    <tr>\n      <th>35</th>\n      <td>P036</td>\n      <td>card</td>\n      <td>Bengal Commercial Bank Ltd</td>\n    </tr>\n    <tr>\n      <th>36</th>\n      <td>P037</td>\n      <td>mobile</td>\n      <td>Bkash</td>\n    </tr>\n    <tr>\n      <th>37</th>\n      <td>P038</td>\n      <td>mobile</td>\n      <td>Rocket</td>\n    </tr>\n    <tr>\n      <th>38</th>\n      <td>P039</td>\n      <td>mobile</td>\n      <td>Nagad</td>\n    </tr>\n  </tbody>\n</table>\n</div>"
     },
     "execution_count": 6,
     "metadata": {},
     "output_type": "execute_result"
    }
   ],
   "source": [
    "trans_dim = pd.read_excel(r'../../data/e-commerece_data.xlsx', sheet_name='Trans_dim', engine='openpyxl')\n",
    "\n",
    "trans_dim"
   ],
   "metadata": {
    "collapsed": false
   }
  },
  {
   "cell_type": "code",
   "execution_count": 7,
   "outputs": [
    {
     "data": {
      "text/plain": "    item_key                              item_name                desc   \n0     I00001             A&W Root Beer - 12 oz cans  a. Beverage - Soda  \\\n1     I00002        A&W Root Beer Diet - 12 oz cans  a. Beverage - Soda   \n2     I00003          Barq's Root Beer - 12 oz cans  a. Beverage - Soda   \n3     I00004                       Cherry Coke 12oz  a. Beverage - Soda   \n4     I00005               Cherry Coke Zero 12 pack  a. Beverage - Soda   \n..       ...                                    ...                 ...   \n259   I00260                   Napkins Square Lunch    Kitchen Supplies   \n260   I00261                 POM 2 ply paper towels    Kitchen Supplies   \n261   I00262                Strong Everyday Napkins    Kitchen Supplies   \n262   I00263                   Advil 2 pill packets            Medicine   \n263   I00264  Tylenol Extra Strength 2 pill packets            Medicine   \n\n     unit_price  man_country                        supplier  unit  \n0         11.50  Netherlands                 Bolsius Boxmeer  cans  \n1          6.75       poland              CHROMADURLIN S.A.S  cans  \n2          6.75   Bangladesh                    DENIMACH LTD  cans  \n3          6.75  Netherlands                 Bolsius Boxmeer  cans  \n4          6.75      Finland                     HARDFORD AB  cans  \n..          ...          ...                             ...   ...  \n259       15.00     Cambodia  NINGBO SEDUNO IMP & EXP CO.LTD    ct  \n260       33.00    Lithuania                        BIGSO AB    ct  \n261       14.00  Netherlands                 Bolsius Boxmeer    ct  \n262       14.00    Lithuania                        BIGSO AB    Ct  \n263       15.00        India       Indo Count Industries Ltd    Ct  \n\n[264 rows x 7 columns]",
      "text/html": "<div>\n<style scoped>\n    .dataframe tbody tr th:only-of-type {\n        vertical-align: middle;\n    }\n\n    .dataframe tbody tr th {\n        vertical-align: top;\n    }\n\n    .dataframe thead th {\n        text-align: right;\n    }\n</style>\n<table border=\"1\" class=\"dataframe\">\n  <thead>\n    <tr style=\"text-align: right;\">\n      <th></th>\n      <th>item_key</th>\n      <th>item_name</th>\n      <th>desc</th>\n      <th>unit_price</th>\n      <th>man_country</th>\n      <th>supplier</th>\n      <th>unit</th>\n    </tr>\n  </thead>\n  <tbody>\n    <tr>\n      <th>0</th>\n      <td>I00001</td>\n      <td>A&amp;W Root Beer - 12 oz cans</td>\n      <td>a. Beverage - Soda</td>\n      <td>11.50</td>\n      <td>Netherlands</td>\n      <td>Bolsius Boxmeer</td>\n      <td>cans</td>\n    </tr>\n    <tr>\n      <th>1</th>\n      <td>I00002</td>\n      <td>A&amp;W Root Beer Diet - 12 oz cans</td>\n      <td>a. Beverage - Soda</td>\n      <td>6.75</td>\n      <td>poland</td>\n      <td>CHROMADURLIN S.A.S</td>\n      <td>cans</td>\n    </tr>\n    <tr>\n      <th>2</th>\n      <td>I00003</td>\n      <td>Barq's Root Beer - 12 oz cans</td>\n      <td>a. Beverage - Soda</td>\n      <td>6.75</td>\n      <td>Bangladesh</td>\n      <td>DENIMACH LTD</td>\n      <td>cans</td>\n    </tr>\n    <tr>\n      <th>3</th>\n      <td>I00004</td>\n      <td>Cherry Coke 12oz</td>\n      <td>a. Beverage - Soda</td>\n      <td>6.75</td>\n      <td>Netherlands</td>\n      <td>Bolsius Boxmeer</td>\n      <td>cans</td>\n    </tr>\n    <tr>\n      <th>4</th>\n      <td>I00005</td>\n      <td>Cherry Coke Zero 12 pack</td>\n      <td>a. Beverage - Soda</td>\n      <td>6.75</td>\n      <td>Finland</td>\n      <td>HARDFORD AB</td>\n      <td>cans</td>\n    </tr>\n    <tr>\n      <th>...</th>\n      <td>...</td>\n      <td>...</td>\n      <td>...</td>\n      <td>...</td>\n      <td>...</td>\n      <td>...</td>\n      <td>...</td>\n    </tr>\n    <tr>\n      <th>259</th>\n      <td>I00260</td>\n      <td>Napkins Square Lunch</td>\n      <td>Kitchen Supplies</td>\n      <td>15.00</td>\n      <td>Cambodia</td>\n      <td>NINGBO SEDUNO IMP &amp; EXP CO.LTD</td>\n      <td>ct</td>\n    </tr>\n    <tr>\n      <th>260</th>\n      <td>I00261</td>\n      <td>POM 2 ply paper towels</td>\n      <td>Kitchen Supplies</td>\n      <td>33.00</td>\n      <td>Lithuania</td>\n      <td>BIGSO AB</td>\n      <td>ct</td>\n    </tr>\n    <tr>\n      <th>261</th>\n      <td>I00262</td>\n      <td>Strong Everyday Napkins</td>\n      <td>Kitchen Supplies</td>\n      <td>14.00</td>\n      <td>Netherlands</td>\n      <td>Bolsius Boxmeer</td>\n      <td>ct</td>\n    </tr>\n    <tr>\n      <th>262</th>\n      <td>I00263</td>\n      <td>Advil 2 pill packets</td>\n      <td>Medicine</td>\n      <td>14.00</td>\n      <td>Lithuania</td>\n      <td>BIGSO AB</td>\n      <td>Ct</td>\n    </tr>\n    <tr>\n      <th>263</th>\n      <td>I00264</td>\n      <td>Tylenol Extra Strength 2 pill packets</td>\n      <td>Medicine</td>\n      <td>15.00</td>\n      <td>India</td>\n      <td>Indo Count Industries Ltd</td>\n      <td>Ct</td>\n    </tr>\n  </tbody>\n</table>\n<p>264 rows × 7 columns</p>\n</div>"
     },
     "execution_count": 7,
     "metadata": {},
     "output_type": "execute_result"
    }
   ],
   "source": [
    "item_dim = pd.read_excel(r'../../data/e-commerece_data.xlsx', sheet_name='Item_dim', engine='openpyxl')\n",
    "\n",
    "item_dim"
   ],
   "metadata": {
    "collapsed": false
   }
  },
  {
   "cell_type": "code",
   "execution_count": 8,
   "outputs": [
    {
     "data": {
      "text/plain": "     coustomer_key             name     contact_no            nid\n0          C000001            sumit  8801920345851  7505075708899\n1          C000002         tammanne  8801817069329  1977731324842\n2          C000003    kailash kumar  8801663795774  3769494056318\n3          C000004  bhagwati prasad  8801533627961  9378834712725\n4          C000005             ajay  8801943715786  3540815556323\n...            ...              ...            ...            ...\n9186       C009187        smt radha  8801563029753  1057824928189\n9187       C009188     tulsi sharma  8801794982266  7970880905205\n9188       C009189        madhubala  8801890032435  3101930298150\n9189       C009190       pintu devi  8801563290767  7234328323528\n9190       C009191            roopa  8801524507359  5682728390307\n\n[9191 rows x 4 columns]",
      "text/html": "<div>\n<style scoped>\n    .dataframe tbody tr th:only-of-type {\n        vertical-align: middle;\n    }\n\n    .dataframe tbody tr th {\n        vertical-align: top;\n    }\n\n    .dataframe thead th {\n        text-align: right;\n    }\n</style>\n<table border=\"1\" class=\"dataframe\">\n  <thead>\n    <tr style=\"text-align: right;\">\n      <th></th>\n      <th>coustomer_key</th>\n      <th>name</th>\n      <th>contact_no</th>\n      <th>nid</th>\n    </tr>\n  </thead>\n  <tbody>\n    <tr>\n      <th>0</th>\n      <td>C000001</td>\n      <td>sumit</td>\n      <td>8801920345851</td>\n      <td>7505075708899</td>\n    </tr>\n    <tr>\n      <th>1</th>\n      <td>C000002</td>\n      <td>tammanne</td>\n      <td>8801817069329</td>\n      <td>1977731324842</td>\n    </tr>\n    <tr>\n      <th>2</th>\n      <td>C000003</td>\n      <td>kailash kumar</td>\n      <td>8801663795774</td>\n      <td>3769494056318</td>\n    </tr>\n    <tr>\n      <th>3</th>\n      <td>C000004</td>\n      <td>bhagwati prasad</td>\n      <td>8801533627961</td>\n      <td>9378834712725</td>\n    </tr>\n    <tr>\n      <th>4</th>\n      <td>C000005</td>\n      <td>ajay</td>\n      <td>8801943715786</td>\n      <td>3540815556323</td>\n    </tr>\n    <tr>\n      <th>...</th>\n      <td>...</td>\n      <td>...</td>\n      <td>...</td>\n      <td>...</td>\n    </tr>\n    <tr>\n      <th>9186</th>\n      <td>C009187</td>\n      <td>smt radha</td>\n      <td>8801563029753</td>\n      <td>1057824928189</td>\n    </tr>\n    <tr>\n      <th>9187</th>\n      <td>C009188</td>\n      <td>tulsi sharma</td>\n      <td>8801794982266</td>\n      <td>7970880905205</td>\n    </tr>\n    <tr>\n      <th>9188</th>\n      <td>C009189</td>\n      <td>madhubala</td>\n      <td>8801890032435</td>\n      <td>3101930298150</td>\n    </tr>\n    <tr>\n      <th>9189</th>\n      <td>C009190</td>\n      <td>pintu devi</td>\n      <td>8801563290767</td>\n      <td>7234328323528</td>\n    </tr>\n    <tr>\n      <th>9190</th>\n      <td>C009191</td>\n      <td>roopa</td>\n      <td>8801524507359</td>\n      <td>5682728390307</td>\n    </tr>\n  </tbody>\n</table>\n<p>9191 rows × 4 columns</p>\n</div>"
     },
     "execution_count": 8,
     "metadata": {},
     "output_type": "execute_result"
    }
   ],
   "source": [
    "customer_dim = pd.read_excel(r'../../data/e-commerece_data.xlsx', sheet_name='Coustomer_dim', engine='openpyxl')\n",
    "\n",
    "customer_dim"
   ],
   "metadata": {
    "collapsed": false
   }
  },
  {
   "cell_type": "code",
   "execution_count": 9,
   "outputs": [
    {
     "data": {
      "text/plain": "      time_key              date  hour  day      week  month quarter  year\n0       T00001  20-05-2017 14:56    14   20  3rd Week      5      Q2  2017\n1       T00002  30-01-2015 22:14    22   30  4th Week      1      Q1  2015\n2       T00003  14-03-2020 02:34     2   14  2nd Week      3      Q1  2020\n3       T00004  27-04-2018 12:19    12   27  4th Week      4      Q2  2018\n4       T00005  14-04-2018 10:43    10   14  2nd Week      4      Q2  2018\n...        ...               ...   ...  ...       ...    ...     ...   ...\n99994  T099995  04-01-2015 17:22    17    4  1st Week      1      Q1  2015\n99995  T099996  17-01-2015 21:09    21   17  3rd Week      1      Q1  2015\n99996  T099997  23-01-2020 14:42    14   23  4th Week      1      Q1  2020\n99997  T099998  31-10-2015 13:52    13   31  4th Week     10      Q4  2015\n99998  T099999  08-06-2017 08:59     8    8  2nd Week      6      Q2  2017\n\n[99999 rows x 8 columns]",
      "text/html": "<div>\n<style scoped>\n    .dataframe tbody tr th:only-of-type {\n        vertical-align: middle;\n    }\n\n    .dataframe tbody tr th {\n        vertical-align: top;\n    }\n\n    .dataframe thead th {\n        text-align: right;\n    }\n</style>\n<table border=\"1\" class=\"dataframe\">\n  <thead>\n    <tr style=\"text-align: right;\">\n      <th></th>\n      <th>time_key</th>\n      <th>date</th>\n      <th>hour</th>\n      <th>day</th>\n      <th>week</th>\n      <th>month</th>\n      <th>quarter</th>\n      <th>year</th>\n    </tr>\n  </thead>\n  <tbody>\n    <tr>\n      <th>0</th>\n      <td>T00001</td>\n      <td>20-05-2017 14:56</td>\n      <td>14</td>\n      <td>20</td>\n      <td>3rd Week</td>\n      <td>5</td>\n      <td>Q2</td>\n      <td>2017</td>\n    </tr>\n    <tr>\n      <th>1</th>\n      <td>T00002</td>\n      <td>30-01-2015 22:14</td>\n      <td>22</td>\n      <td>30</td>\n      <td>4th Week</td>\n      <td>1</td>\n      <td>Q1</td>\n      <td>2015</td>\n    </tr>\n    <tr>\n      <th>2</th>\n      <td>T00003</td>\n      <td>14-03-2020 02:34</td>\n      <td>2</td>\n      <td>14</td>\n      <td>2nd Week</td>\n      <td>3</td>\n      <td>Q1</td>\n      <td>2020</td>\n    </tr>\n    <tr>\n      <th>3</th>\n      <td>T00004</td>\n      <td>27-04-2018 12:19</td>\n      <td>12</td>\n      <td>27</td>\n      <td>4th Week</td>\n      <td>4</td>\n      <td>Q2</td>\n      <td>2018</td>\n    </tr>\n    <tr>\n      <th>4</th>\n      <td>T00005</td>\n      <td>14-04-2018 10:43</td>\n      <td>10</td>\n      <td>14</td>\n      <td>2nd Week</td>\n      <td>4</td>\n      <td>Q2</td>\n      <td>2018</td>\n    </tr>\n    <tr>\n      <th>...</th>\n      <td>...</td>\n      <td>...</td>\n      <td>...</td>\n      <td>...</td>\n      <td>...</td>\n      <td>...</td>\n      <td>...</td>\n      <td>...</td>\n    </tr>\n    <tr>\n      <th>99994</th>\n      <td>T099995</td>\n      <td>04-01-2015 17:22</td>\n      <td>17</td>\n      <td>4</td>\n      <td>1st Week</td>\n      <td>1</td>\n      <td>Q1</td>\n      <td>2015</td>\n    </tr>\n    <tr>\n      <th>99995</th>\n      <td>T099996</td>\n      <td>17-01-2015 21:09</td>\n      <td>21</td>\n      <td>17</td>\n      <td>3rd Week</td>\n      <td>1</td>\n      <td>Q1</td>\n      <td>2015</td>\n    </tr>\n    <tr>\n      <th>99996</th>\n      <td>T099997</td>\n      <td>23-01-2020 14:42</td>\n      <td>14</td>\n      <td>23</td>\n      <td>4th Week</td>\n      <td>1</td>\n      <td>Q1</td>\n      <td>2020</td>\n    </tr>\n    <tr>\n      <th>99997</th>\n      <td>T099998</td>\n      <td>31-10-2015 13:52</td>\n      <td>13</td>\n      <td>31</td>\n      <td>4th Week</td>\n      <td>10</td>\n      <td>Q4</td>\n      <td>2015</td>\n    </tr>\n    <tr>\n      <th>99998</th>\n      <td>T099999</td>\n      <td>08-06-2017 08:59</td>\n      <td>8</td>\n      <td>8</td>\n      <td>2nd Week</td>\n      <td>6</td>\n      <td>Q2</td>\n      <td>2017</td>\n    </tr>\n  </tbody>\n</table>\n<p>99999 rows × 8 columns</p>\n</div>"
     },
     "execution_count": 9,
     "metadata": {},
     "output_type": "execute_result"
    }
   ],
   "source": [
    "time_dim = pd.read_excel(r'../../data/e-commerece_data.xlsx', sheet_name='Time_dim', engine='openpyxl')\n",
    "\n",
    "time_dim"
   ],
   "metadata": {
    "collapsed": false
   }
  },
  {
   "cell_type": "code",
   "execution_count": 10,
   "outputs": [
    {
     "data": {
      "text/plain": "    store_key division  district                  upazila\n0       S0001   SYLHET  HABIGANJ               AJMIRIGANJ\n1       S0002   SYLHET  HABIGANJ                  BAHUBAL\n2       S0003   SYLHET  HABIGANJ               BANIACHONG\n3       S0004   SYLHET  HABIGANJ              CHUNARUGHAT\n4       S0005   SYLHET  HABIGANJ           HABIGANJ SADAR\n..        ...      ...       ...                      ...\n721    S00722  BARISAL   BARISAL                    HIZLA\n722    S00723  BARISAL   BARISAL  BARISAL SADAR (KOTWALI)\n723    S00724  BARISAL   BARISAL              MEHENDIGANJ\n724    S00725  BARISAL   BARISAL                   MULADI\n725    S00726  BARISAL   BARISAL                 WAZIRPUR\n\n[726 rows x 4 columns]",
      "text/html": "<div>\n<style scoped>\n    .dataframe tbody tr th:only-of-type {\n        vertical-align: middle;\n    }\n\n    .dataframe tbody tr th {\n        vertical-align: top;\n    }\n\n    .dataframe thead th {\n        text-align: right;\n    }\n</style>\n<table border=\"1\" class=\"dataframe\">\n  <thead>\n    <tr style=\"text-align: right;\">\n      <th></th>\n      <th>store_key</th>\n      <th>division</th>\n      <th>district</th>\n      <th>upazila</th>\n    </tr>\n  </thead>\n  <tbody>\n    <tr>\n      <th>0</th>\n      <td>S0001</td>\n      <td>SYLHET</td>\n      <td>HABIGANJ</td>\n      <td>AJMIRIGANJ</td>\n    </tr>\n    <tr>\n      <th>1</th>\n      <td>S0002</td>\n      <td>SYLHET</td>\n      <td>HABIGANJ</td>\n      <td>BAHUBAL</td>\n    </tr>\n    <tr>\n      <th>2</th>\n      <td>S0003</td>\n      <td>SYLHET</td>\n      <td>HABIGANJ</td>\n      <td>BANIACHONG</td>\n    </tr>\n    <tr>\n      <th>3</th>\n      <td>S0004</td>\n      <td>SYLHET</td>\n      <td>HABIGANJ</td>\n      <td>CHUNARUGHAT</td>\n    </tr>\n    <tr>\n      <th>4</th>\n      <td>S0005</td>\n      <td>SYLHET</td>\n      <td>HABIGANJ</td>\n      <td>HABIGANJ SADAR</td>\n    </tr>\n    <tr>\n      <th>...</th>\n      <td>...</td>\n      <td>...</td>\n      <td>...</td>\n      <td>...</td>\n    </tr>\n    <tr>\n      <th>721</th>\n      <td>S00722</td>\n      <td>BARISAL</td>\n      <td>BARISAL</td>\n      <td>HIZLA</td>\n    </tr>\n    <tr>\n      <th>722</th>\n      <td>S00723</td>\n      <td>BARISAL</td>\n      <td>BARISAL</td>\n      <td>BARISAL SADAR (KOTWALI)</td>\n    </tr>\n    <tr>\n      <th>723</th>\n      <td>S00724</td>\n      <td>BARISAL</td>\n      <td>BARISAL</td>\n      <td>MEHENDIGANJ</td>\n    </tr>\n    <tr>\n      <th>724</th>\n      <td>S00725</td>\n      <td>BARISAL</td>\n      <td>BARISAL</td>\n      <td>MULADI</td>\n    </tr>\n    <tr>\n      <th>725</th>\n      <td>S00726</td>\n      <td>BARISAL</td>\n      <td>BARISAL</td>\n      <td>WAZIRPUR</td>\n    </tr>\n  </tbody>\n</table>\n<p>726 rows × 4 columns</p>\n</div>"
     },
     "execution_count": 10,
     "metadata": {},
     "output_type": "execute_result"
    }
   ],
   "source": [
    "store_dim = pd.read_excel(r'../../data/e-commerece_data.xlsx', sheet_name='Store_dim', engine='openpyxl')\n",
    "\n",
    "store_dim"
   ],
   "metadata": {
    "collapsed": false
   }
  },
  {
   "cell_type": "code",
   "execution_count": 11,
   "outputs": [
    {
     "data": {
      "text/plain": "       payment_key coustomer_key time_key item_key store_key  quantity   unit   \n0             P026       C004510  T049189   I00177    S00307         1     ct  \\\n1             P022       C008967  T041209   I00248    S00595         1  rolls   \n2             P030       C007261   T03633   I00195    S00496         8     ct   \n3             P032       C007048  T084631   I00131     S0086         8     ct   \n4             P014       C006430  T071276   I00050    S00488         8   cans   \n...            ...           ...      ...      ...       ...       ...    ...   \n999995        P010       C003726   T09247   I00063    S00502         5   cans   \n999996        P021       C002581  T023483   I00252    S00225         1     ct   \n999997        P035       C006133  T039372   I00119    S00555         7     ct   \n999998        P031       C008735  T097975   I00257    S00440         2     ct   \n999999        P032       C004067  T018028   I00044    S00326        10   cans   \n\n        unit_price  total_price  \n0             35.0         35.0  \n1             26.0         26.0  \n2             12.5        100.0  \n3             14.0        112.0  \n4              8.0         64.0  \n...            ...          ...  \n999995        40.0        200.0  \n999996        11.0         11.0  \n999997        53.0        371.0  \n999998        21.0         42.0  \n999999         8.0         80.0  \n\n[1000000 rows x 9 columns]",
      "text/html": "<div>\n<style scoped>\n    .dataframe tbody tr th:only-of-type {\n        vertical-align: middle;\n    }\n\n    .dataframe tbody tr th {\n        vertical-align: top;\n    }\n\n    .dataframe thead th {\n        text-align: right;\n    }\n</style>\n<table border=\"1\" class=\"dataframe\">\n  <thead>\n    <tr style=\"text-align: right;\">\n      <th></th>\n      <th>payment_key</th>\n      <th>coustomer_key</th>\n      <th>time_key</th>\n      <th>item_key</th>\n      <th>store_key</th>\n      <th>quantity</th>\n      <th>unit</th>\n      <th>unit_price</th>\n      <th>total_price</th>\n    </tr>\n  </thead>\n  <tbody>\n    <tr>\n      <th>0</th>\n      <td>P026</td>\n      <td>C004510</td>\n      <td>T049189</td>\n      <td>I00177</td>\n      <td>S00307</td>\n      <td>1</td>\n      <td>ct</td>\n      <td>35.0</td>\n      <td>35.0</td>\n    </tr>\n    <tr>\n      <th>1</th>\n      <td>P022</td>\n      <td>C008967</td>\n      <td>T041209</td>\n      <td>I00248</td>\n      <td>S00595</td>\n      <td>1</td>\n      <td>rolls</td>\n      <td>26.0</td>\n      <td>26.0</td>\n    </tr>\n    <tr>\n      <th>2</th>\n      <td>P030</td>\n      <td>C007261</td>\n      <td>T03633</td>\n      <td>I00195</td>\n      <td>S00496</td>\n      <td>8</td>\n      <td>ct</td>\n      <td>12.5</td>\n      <td>100.0</td>\n    </tr>\n    <tr>\n      <th>3</th>\n      <td>P032</td>\n      <td>C007048</td>\n      <td>T084631</td>\n      <td>I00131</td>\n      <td>S0086</td>\n      <td>8</td>\n      <td>ct</td>\n      <td>14.0</td>\n      <td>112.0</td>\n    </tr>\n    <tr>\n      <th>4</th>\n      <td>P014</td>\n      <td>C006430</td>\n      <td>T071276</td>\n      <td>I00050</td>\n      <td>S00488</td>\n      <td>8</td>\n      <td>cans</td>\n      <td>8.0</td>\n      <td>64.0</td>\n    </tr>\n    <tr>\n      <th>...</th>\n      <td>...</td>\n      <td>...</td>\n      <td>...</td>\n      <td>...</td>\n      <td>...</td>\n      <td>...</td>\n      <td>...</td>\n      <td>...</td>\n      <td>...</td>\n    </tr>\n    <tr>\n      <th>999995</th>\n      <td>P010</td>\n      <td>C003726</td>\n      <td>T09247</td>\n      <td>I00063</td>\n      <td>S00502</td>\n      <td>5</td>\n      <td>cans</td>\n      <td>40.0</td>\n      <td>200.0</td>\n    </tr>\n    <tr>\n      <th>999996</th>\n      <td>P021</td>\n      <td>C002581</td>\n      <td>T023483</td>\n      <td>I00252</td>\n      <td>S00225</td>\n      <td>1</td>\n      <td>ct</td>\n      <td>11.0</td>\n      <td>11.0</td>\n    </tr>\n    <tr>\n      <th>999997</th>\n      <td>P035</td>\n      <td>C006133</td>\n      <td>T039372</td>\n      <td>I00119</td>\n      <td>S00555</td>\n      <td>7</td>\n      <td>ct</td>\n      <td>53.0</td>\n      <td>371.0</td>\n    </tr>\n    <tr>\n      <th>999998</th>\n      <td>P031</td>\n      <td>C008735</td>\n      <td>T097975</td>\n      <td>I00257</td>\n      <td>S00440</td>\n      <td>2</td>\n      <td>ct</td>\n      <td>21.0</td>\n      <td>42.0</td>\n    </tr>\n    <tr>\n      <th>999999</th>\n      <td>P032</td>\n      <td>C004067</td>\n      <td>T018028</td>\n      <td>I00044</td>\n      <td>S00326</td>\n      <td>10</td>\n      <td>cans</td>\n      <td>8.0</td>\n      <td>80.0</td>\n    </tr>\n  </tbody>\n</table>\n<p>1000000 rows × 9 columns</p>\n</div>"
     },
     "execution_count": 11,
     "metadata": {},
     "output_type": "execute_result"
    }
   ],
   "source": [
    "fact_table = pd.read_excel(r'../../data/e-commerece_data.xlsx', sheet_name='Fact_table', engine='openpyxl')\n",
    "\n",
    "fact_table"
   ],
   "metadata": {
    "collapsed": false
   }
  },
  {
   "cell_type": "markdown",
   "source": [
    "### Insert data\n",
    "\n",
    "Insert data into db from pandas\n",
    "\n",
    "#### Insert into trans_dim table"
   ],
   "metadata": {
    "collapsed": false
   }
  },
  {
   "cell_type": "code",
   "execution_count": 12,
   "outputs": [
    {
     "name": "stdout",
     "output_type": "stream",
     "text": [
      "successfully connected to database\n"
     ]
    }
   ],
   "source": [
    "con = PostgresConnection().getConnection()\n",
    "insert_stmt = \"INSERT INTO trans_dim(payment_key, trans_type, bank_name) VALUES (%s, %s, %s)\"\n",
    "cur = con.cursor()\n",
    "psycopg2.extras.execute_batch(cur, insert_stmt, trans_dim.values)\n",
    "con.commit()\n",
    "cur.close()\n",
    "con.close()"
   ],
   "metadata": {
    "collapsed": false
   }
  },
  {
   "cell_type": "markdown",
   "source": [
    "#### Insert into customer_dim table"
   ],
   "metadata": {
    "collapsed": false
   }
  },
  {
   "cell_type": "code",
   "execution_count": 13,
   "outputs": [
    {
     "name": "stdout",
     "output_type": "stream",
     "text": [
      "successfully connected to database\n"
     ]
    }
   ],
   "source": [
    "con = PostgresConnection().getConnection()\n",
    "insert_stmt = \"INSERT INTO customer_dim(customer_key, customer_name, contact_no, nid) VALUES (%s, %s, %s, %s)\"\n",
    "cur = con.cursor()\n",
    "psycopg2.extras.execute_batch(cur, insert_stmt, customer_dim.values)\n",
    "con.commit()\n",
    "cur.close()\n",
    "con.close()"
   ],
   "metadata": {
    "collapsed": false
   }
  },
  {
   "cell_type": "markdown",
   "source": [
    "#### Insert into item_dim table\n"
   ],
   "metadata": {
    "collapsed": false
   }
  },
  {
   "cell_type": "code",
   "execution_count": 14,
   "outputs": [
    {
     "name": "stdout",
     "output_type": "stream",
     "text": [
      "successfully connected to database\n"
     ]
    }
   ],
   "source": [
    "con = PostgresConnection().getConnection()\n",
    "insert_stmt = \"INSERT INTO item_dim(item_key, item_name, item_desc, unit_price, man_country, supplier, unit) VALUES (%s, %s, %s, %s, %s, %s, %s)\"\n",
    "cur = con.cursor()\n",
    "psycopg2.extras.execute_batch(cur, insert_stmt, item_dim.values)\n",
    "con.commit()\n",
    "cur.close()\n",
    "con.close()"
   ],
   "metadata": {
    "collapsed": false
   }
  },
  {
   "cell_type": "markdown",
   "source": [
    "#### Insert into store_dim table"
   ],
   "metadata": {
    "collapsed": false
   }
  },
  {
   "cell_type": "code",
   "execution_count": 15,
   "outputs": [
    {
     "name": "stdout",
     "output_type": "stream",
     "text": [
      "successfully connected to database\n"
     ]
    }
   ],
   "source": [
    "con = PostgresConnection().getConnection()\n",
    "insert_stmt = \"INSERT INTO store_dim(store_key, division, district, upazila) VALUES (%s, %s, %s, %s)\"\n",
    "cur = con.cursor()\n",
    "psycopg2.extras.execute_batch(cur, insert_stmt, store_dim.values)\n",
    "con.commit()\n",
    "cur.close()\n",
    "con.close()"
   ],
   "metadata": {
    "collapsed": false
   }
  },
  {
   "cell_type": "markdown",
   "source": [
    "#### Insert into time_dim table"
   ],
   "metadata": {
    "collapsed": false
   }
  },
  {
   "cell_type": "code",
   "execution_count": 17,
   "outputs": [
    {
     "name": "stdout",
     "output_type": "stream",
     "text": [
      "successfully connected to database\n"
     ]
    }
   ],
   "source": [
    "con = PostgresConnection().getConnection()\n",
    "insert_stmt = \"INSERT INTO time_dim(time_key, time_date, time_hour, time_day, time_week, time_month, time_quarter, time_year)VALUES (%s, %s, %s, %s, %s, %s, %s, %s);\"\n",
    "cur = con.cursor()\n",
    "psycopg2.extras.execute_batch(cur, insert_stmt, time_dim.values)\n",
    "con.commit()\n",
    "cur.close()\n",
    "con.close()"
   ],
   "metadata": {
    "collapsed": false
   }
  },
  {
   "cell_type": "markdown",
   "source": [
    "#### Insert into fact_table table"
   ],
   "metadata": {
    "collapsed": false
   }
  },
  {
   "cell_type": "code",
   "execution_count": 18,
   "outputs": [
    {
     "name": "stdout",
     "output_type": "stream",
     "text": [
      "successfully connected to database\n"
     ]
    }
   ],
   "source": [
    "con = PostgresConnection().getConnection()\n",
    "insert_stmt = \"INSERT INTO fact_table(payment_key, customer_key, time_key, item_key, store_key, quantity, unit, unit_price, total_price)VALUES (%s, %s, %s, %s, %s, %s, %s, %s, %s);\"\n",
    "cur = con.cursor()\n",
    "psycopg2.extras.execute_batch(cur, insert_stmt, fact_table.values)\n",
    "con.commit()\n",
    "cur.close()\n",
    "con.close()"
   ],
   "metadata": {
    "collapsed": false
   }
  },
  {
   "cell_type": "code",
   "execution_count": null,
   "outputs": [],
   "source": [],
   "metadata": {
    "collapsed": false
   }
  }
 ],
 "metadata": {
  "kernelspec": {
   "display_name": "Python 3",
   "language": "python",
   "name": "python3"
  },
  "language_info": {
   "codemirror_mode": {
    "name": "ipython",
    "version": 2
   },
   "file_extension": ".py",
   "mimetype": "text/x-python",
   "name": "python",
   "nbconvert_exporter": "python",
   "pygments_lexer": "ipython2",
   "version": "2.7.6"
  }
 },
 "nbformat": 4,
 "nbformat_minor": 0
}
